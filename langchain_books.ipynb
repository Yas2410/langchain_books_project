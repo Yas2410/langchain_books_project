{
 "cells": [
  {
   "cell_type": "code",
   "execution_count": 75,
   "metadata": {},
   "outputs": [],
   "source": [
    "#Imports\n",
    "# type: ignore\n",
    "import os\n",
    "from dotenv import load_dotenv\n",
    "import pandas as pd\n",
    "\n",
    "from langchain.embeddings import AzureOpenAIEmbeddings\n"
   ]
  },
  {
   "cell_type": "code",
   "execution_count": 76,
   "metadata": {},
   "outputs": [],
   "source": [
    "# Import des variables d'environnement (.env)\n",
    "\n",
    "load_dotenv()\n",
    "\n",
    "azure_openai_api_key = os.getenv(\"AZURE_OPENAI_API_KEY_4\")\n",
    "azure_openai_api_endpoint = os.getenv(\"AZURE_OPENAI_API_ENDPOINT_4\")\n",
    "azure_deployment_name = os.getenv(\"AZURE_DEPLOYMENT_NAME_4\")"
   ]
  },
  {
   "cell_type": "code",
   "execution_count": 77,
   "metadata": {},
   "outputs": [],
   "source": [
    "# Initialisation du modèle d'Embeddings\n",
    "\n",
    "embedding_model = AzureOpenAIEmbeddings(\n",
    "    openai_api_key=azure_openai_api_key,\n",
    "    deployment=\"text-embedding-3-large\",\n",
    "    azure_endpoint=azure_openai_api_endpoint,\n",
    "    openai_api_version=\"2023-05-15\",\n",
    "    chunk_size=500\n",
    ")"
   ]
  },
  {
   "cell_type": "code",
   "execution_count": 78,
   "metadata": {},
   "outputs": [],
   "source": [
    "# Import du dataset \n",
    "\n",
    "gutenberg_data = pd.read_csv(\"Data/gutenberg_ebooks.csv\")"
   ]
  },
  {
   "cell_type": "code",
   "execution_count": 79,
   "metadata": {},
   "outputs": [
    {
     "data": {
      "text/html": [
       "<div>\n",
       "<style scoped>\n",
       "    .dataframe tbody tr th:only-of-type {\n",
       "        vertical-align: middle;\n",
       "    }\n",
       "\n",
       "    .dataframe tbody tr th {\n",
       "        vertical-align: top;\n",
       "    }\n",
       "\n",
       "    .dataframe thead th {\n",
       "        text-align: right;\n",
       "    }\n",
       "</style>\n",
       "<table border=\"1\" class=\"dataframe\">\n",
       "  <thead>\n",
       "    <tr style=\"text-align: right;\">\n",
       "      <th></th>\n",
       "      <th>Ebook ID</th>\n",
       "      <th>Author</th>\n",
       "      <th>Title</th>\n",
       "      <th>Credits</th>\n",
       "      <th>Summary</th>\n",
       "      <th>Language</th>\n",
       "      <th>LoC Class</th>\n",
       "      <th>Subject</th>\n",
       "      <th>Subject_2</th>\n",
       "      <th>Subject_3</th>\n",
       "      <th>Subject_4</th>\n",
       "      <th>Category</th>\n",
       "      <th>EBook-No.</th>\n",
       "      <th>Release Date</th>\n",
       "      <th>Most Recently Updated</th>\n",
       "      <th>Copyright Status</th>\n",
       "      <th>Downloads</th>\n",
       "    </tr>\n",
       "  </thead>\n",
       "  <tbody>\n",
       "    <tr>\n",
       "      <th>19924</th>\n",
       "      <td>19996</td>\n",
       "      <td>Various</td>\n",
       "      <td>The Atlantic Monthly, Volume 16, No. 96, Octob...</td>\n",
       "      <td>Produced by Joshua Hutchinson, Josephine Paolu...</td>\n",
       "      <td>\"The Atlantic Monthly, Volume 16, No. 96, Octo...</td>\n",
       "      <td>English</td>\n",
       "      <td>AP: General Works: Periodicals</td>\n",
       "      <td>American periodicals</td>\n",
       "      <td>NaN</td>\n",
       "      <td>NaN</td>\n",
       "      <td>NaN</td>\n",
       "      <td>Text</td>\n",
       "      <td>19996</td>\n",
       "      <td>Dec 2, 2006</td>\n",
       "      <td>NaN</td>\n",
       "      <td>Public domain in the USA.</td>\n",
       "      <td>88 downloads in the last 30 days.</td>\n",
       "    </tr>\n",
       "    <tr>\n",
       "      <th>19925</th>\n",
       "      <td>19997</td>\n",
       "      <td>Ober, Frederick A. (Frederick Albion), 1849-1913</td>\n",
       "      <td>Amerigo Vespucci</td>\n",
       "      <td>Produced by Suzanne Shell, Richard J. Shiffer ...</td>\n",
       "      <td>\"Amerigo Vespucci\" by Frederick A. Ober is a h...</td>\n",
       "      <td>English</td>\n",
       "      <td>E011: History: America: America</td>\n",
       "      <td>Vespucci, Amerigo, 1451-1512</td>\n",
       "      <td>NaN</td>\n",
       "      <td>NaN</td>\n",
       "      <td>NaN</td>\n",
       "      <td>Text</td>\n",
       "      <td>19997</td>\n",
       "      <td>Dec 3, 2006</td>\n",
       "      <td>NaN</td>\n",
       "      <td>Public domain in the USA.</td>\n",
       "      <td>145 downloads in the last 30 days.</td>\n",
       "    </tr>\n",
       "    <tr>\n",
       "      <th>19926</th>\n",
       "      <td>19998</td>\n",
       "      <td>Allen, Lewis Falley, 1800-1890</td>\n",
       "      <td>Rural ArchitectureBeing a Complete Description...</td>\n",
       "      <td>Produced by Louise Hope, Steven Giacomelli and...</td>\n",
       "      <td>\"Rural Architecture\" by Lewis Falley Allen is ...</td>\n",
       "      <td>English</td>\n",
       "      <td>NA: Fine Arts: Architecture</td>\n",
       "      <td>Domestic animals</td>\n",
       "      <td>Architecture, Domestic</td>\n",
       "      <td>NaN</td>\n",
       "      <td>NaN</td>\n",
       "      <td>Text</td>\n",
       "      <td>19998</td>\n",
       "      <td>Dec 3, 2006</td>\n",
       "      <td>NaN</td>\n",
       "      <td>Public domain in the USA.</td>\n",
       "      <td>232 downloads in the last 30 days.</td>\n",
       "    </tr>\n",
       "    <tr>\n",
       "      <th>19927</th>\n",
       "      <td>19999</td>\n",
       "      <td>Trowbridge, J. T. (John Townsend), 1827-1916</td>\n",
       "      <td>The Drummer Boy</td>\n",
       "      <td>Produced by David Edwards and the Online Distr...</td>\n",
       "      <td>\"The Drummer Boy\" by J. T. Trowbridge is a his...</td>\n",
       "      <td>English</td>\n",
       "      <td>PZ: Language and Literatures: Juvenile belles ...</td>\n",
       "      <td>United States -- History -- Civil War, 1861-18...</td>\n",
       "      <td>NaN</td>\n",
       "      <td>NaN</td>\n",
       "      <td>NaN</td>\n",
       "      <td>Text</td>\n",
       "      <td>19999</td>\n",
       "      <td>Dec 3, 2006</td>\n",
       "      <td>NaN</td>\n",
       "      <td>Public domain in the USA.</td>\n",
       "      <td>76 downloads in the last 30 days.</td>\n",
       "    </tr>\n",
       "    <tr>\n",
       "      <th>19928</th>\n",
       "      <td>20000</td>\n",
       "      <td>Verne, Jules, 1828-1905</td>\n",
       "      <td>Twenty Thousand Leagues Under the Sea</td>\n",
       "      <td>NaN</td>\n",
       "      <td>NaN</td>\n",
       "      <td>English</td>\n",
       "      <td>PQ: Language and Literatures: Romance literatu...</td>\n",
       "      <td>Science fiction</td>\n",
       "      <td>Submarines (Ships) -- Fiction</td>\n",
       "      <td>Sea stories</td>\n",
       "      <td>Underwater exploration -- Fiction</td>\n",
       "      <td>Sound</td>\n",
       "      <td>20000</td>\n",
       "      <td>Sep 1, 2007</td>\n",
       "      <td>Jan 30, 2021</td>\n",
       "      <td>Public domain in the USA.</td>\n",
       "      <td>515 downloads in the last 30 days.</td>\n",
       "    </tr>\n",
       "  </tbody>\n",
       "</table>\n",
       "</div>"
      ],
      "text/plain": [
       "       Ebook ID                                            Author  \\\n",
       "19924     19996                                           Various   \n",
       "19925     19997  Ober, Frederick A. (Frederick Albion), 1849-1913   \n",
       "19926     19998                    Allen, Lewis Falley, 1800-1890   \n",
       "19927     19999      Trowbridge, J. T. (John Townsend), 1827-1916   \n",
       "19928     20000                           Verne, Jules, 1828-1905   \n",
       "\n",
       "                                                   Title  \\\n",
       "19924  The Atlantic Monthly, Volume 16, No. 96, Octob...   \n",
       "19925                                   Amerigo Vespucci   \n",
       "19926  Rural ArchitectureBeing a Complete Description...   \n",
       "19927                                    The Drummer Boy   \n",
       "19928              Twenty Thousand Leagues Under the Sea   \n",
       "\n",
       "                                                 Credits  \\\n",
       "19924  Produced by Joshua Hutchinson, Josephine Paolu...   \n",
       "19925  Produced by Suzanne Shell, Richard J. Shiffer ...   \n",
       "19926  Produced by Louise Hope, Steven Giacomelli and...   \n",
       "19927  Produced by David Edwards and the Online Distr...   \n",
       "19928                                                NaN   \n",
       "\n",
       "                                                 Summary Language  \\\n",
       "19924  \"The Atlantic Monthly, Volume 16, No. 96, Octo...  English   \n",
       "19925  \"Amerigo Vespucci\" by Frederick A. Ober is a h...  English   \n",
       "19926  \"Rural Architecture\" by Lewis Falley Allen is ...  English   \n",
       "19927  \"The Drummer Boy\" by J. T. Trowbridge is a his...  English   \n",
       "19928                                                NaN  English   \n",
       "\n",
       "                                               LoC Class  \\\n",
       "19924                     AP: General Works: Periodicals   \n",
       "19925                    E011: History: America: America   \n",
       "19926                        NA: Fine Arts: Architecture   \n",
       "19927  PZ: Language and Literatures: Juvenile belles ...   \n",
       "19928  PQ: Language and Literatures: Romance literatu...   \n",
       "\n",
       "                                                 Subject  \\\n",
       "19924                               American periodicals   \n",
       "19925                       Vespucci, Amerigo, 1451-1512   \n",
       "19926                                   Domestic animals   \n",
       "19927  United States -- History -- Civil War, 1861-18...   \n",
       "19928                                    Science fiction   \n",
       "\n",
       "                           Subject_2    Subject_3  \\\n",
       "19924                            NaN          NaN   \n",
       "19925                            NaN          NaN   \n",
       "19926         Architecture, Domestic          NaN   \n",
       "19927                            NaN          NaN   \n",
       "19928  Submarines (Ships) -- Fiction  Sea stories   \n",
       "\n",
       "                               Subject_4 Category  EBook-No. Release Date  \\\n",
       "19924                                NaN     Text      19996  Dec 2, 2006   \n",
       "19925                                NaN     Text      19997  Dec 3, 2006   \n",
       "19926                                NaN     Text      19998  Dec 3, 2006   \n",
       "19927                                NaN     Text      19999  Dec 3, 2006   \n",
       "19928  Underwater exploration -- Fiction    Sound      20000  Sep 1, 2007   \n",
       "\n",
       "      Most Recently Updated           Copyright Status  \\\n",
       "19924                   NaN  Public domain in the USA.   \n",
       "19925                   NaN  Public domain in the USA.   \n",
       "19926                   NaN  Public domain in the USA.   \n",
       "19927                   NaN  Public domain in the USA.   \n",
       "19928          Jan 30, 2021  Public domain in the USA.   \n",
       "\n",
       "                                Downloads  \n",
       "19924   88 downloads in the last 30 days.  \n",
       "19925  145 downloads in the last 30 days.  \n",
       "19926  232 downloads in the last 30 days.  \n",
       "19927   76 downloads in the last 30 days.  \n",
       "19928  515 downloads in the last 30 days.  "
      ]
     },
     "execution_count": 79,
     "metadata": {},
     "output_type": "execute_result"
    }
   ],
   "source": [
    "gutenberg_data.tail()"
   ]
  },
  {
   "cell_type": "code",
   "execution_count": 80,
   "metadata": {},
   "outputs": [
    {
     "data": {
      "text/plain": [
       "(19929, 17)"
      ]
     },
     "execution_count": 80,
     "metadata": {},
     "output_type": "execute_result"
    }
   ],
   "source": [
    "gutenberg_data.shape"
   ]
  },
  {
   "cell_type": "code",
   "execution_count": 81,
   "metadata": {},
   "outputs": [
    {
     "name": "stdout",
     "output_type": "stream",
     "text": [
      "Ebook ID                     0\n",
      "Author                     874\n",
      "Title                        0\n",
      "Credits                   1563\n",
      "Summary                    819\n",
      "Language                     0\n",
      "LoC Class                    8\n",
      "Subject                      9\n",
      "Subject_2                 8253\n",
      "Subject_3                13595\n",
      "Subject_4                16257\n",
      "Category                     0\n",
      "EBook-No.                    0\n",
      "Release Date                 0\n",
      "Most Recently Updated     1821\n",
      "Copyright Status             0\n",
      "Downloads                    0\n",
      "dtype: int64\n"
     ]
    }
   ],
   "source": [
    "print(gutenberg_data.isnull().sum())"
   ]
  },
  {
   "cell_type": "code",
   "execution_count": 82,
   "metadata": {},
   "outputs": [],
   "source": [
    "gutenberg_data = gutenberg_data.dropna(subset=[\"Summary\", \"Title\", \"Author\"])"
   ]
  },
  {
   "cell_type": "code",
   "execution_count": 83,
   "metadata": {},
   "outputs": [
    {
     "data": {
      "text/plain": [
       "(18335, 17)"
      ]
     },
     "execution_count": 83,
     "metadata": {},
     "output_type": "execute_result"
    }
   ],
   "source": [
    "gutenberg_data.shape"
   ]
  },
  {
   "cell_type": "code",
   "execution_count": 85,
   "metadata": {},
   "outputs": [
    {
     "name": "stdout",
     "output_type": "stream",
     "text": [
      "Ebook ID                     0\n",
      "Author                       0\n",
      "Title                        0\n",
      "Credits                    758\n",
      "Summary                      0\n",
      "Language                     0\n",
      "LoC Class                    2\n",
      "Subject                      3\n",
      "Subject_2                 7558\n",
      "Subject_3                12487\n",
      "Subject_4                14962\n",
      "Category                     0\n",
      "EBook-No.                    0\n",
      "Release Date                 0\n",
      "Most Recently Updated     1731\n",
      "Copyright Status             0\n",
      "Downloads                    0\n",
      "dtype: int64\n"
     ]
    }
   ],
   "source": [
    "print(gutenberg_data.isnull().sum())"
   ]
  },
  {
   "cell_type": "code",
   "execution_count": 86,
   "metadata": {},
   "outputs": [],
   "source": [
    "metadata_columns = [\"Title\", \"Author\", \"Language\", \"Release Date\", \"Subject\", \"Subject_2\", \"Subject_3\", \"Subject_4\"]\n",
    "\n",
    "gutenberg_data[metadata_columns] = gutenberg_data[metadata_columns].fillna('')\n"
   ]
  },
  {
   "cell_type": "code",
   "execution_count": 87,
   "metadata": {},
   "outputs": [],
   "source": [
    "# Fichier .Faiss trop lourd pour être commité. Random pour ne garder que environ 8000 ref et pouvoir commit\n",
    "gutenberg_data = gutenberg_data.sample(n=8250, random_state=42)"
   ]
  },
  {
   "cell_type": "code",
   "execution_count": 88,
   "metadata": {},
   "outputs": [
    {
     "data": {
      "text/plain": [
       "(8250, 17)"
      ]
     },
     "execution_count": 88,
     "metadata": {},
     "output_type": "execute_result"
    }
   ],
   "source": [
    "gutenberg_data.shape"
   ]
  },
  {
   "cell_type": "code",
   "execution_count": 89,
   "metadata": {},
   "outputs": [],
   "source": [
    "# type: ignore\n",
    "from langchain.schema import Document\n",
    "\n",
    "documents = []\n",
    "\n",
    "for idx, row in gutenberg_data.iterrows():\n",
    "\n",
    "    # On va combiner l'ensemble des sujets en un seul bloc\n",
    "    subjects = ', '.join([row[col] for col in [\"Subject\", \"Subject_2\", \"Subject_3\", \"Subject_4\"] if row[col]])\n",
    "    \n",
    "    # Création du dictionnaire des métadonnées avec rassemblement de toutes les informations clé\n",
    "    metadata = {\n",
    "        \"Title\": row[\"Title\"],\n",
    "        \"Author\": row[\"Author\"],\n",
    "        \"Language\": row[\"Language\"],\n",
    "        \"Release Date\": row[\"Release Date\"],\n",
    "        \"Subjects\": subjects\n",
    "    }\n",
    "    \n",
    "    document = Document(page_content=row[\"Summary\"], metadata=metadata)\n",
    "    documents.append(document)"
   ]
  },
  {
   "cell_type": "code",
   "execution_count": 15,
   "metadata": {},
   "outputs": [
    {
     "name": "stdout",
     "output_type": "stream",
     "text": [
      "Traitement du lot 1/17\n",
      "Traitement du lot 2/17\n",
      "Traitement du lot 3/17\n",
      "Traitement du lot 4/17\n",
      "Traitement du lot 5/17\n",
      "Traitement du lot 6/17\n",
      "Traitement du lot 7/17\n",
      "Traitement du lot 8/17\n",
      "Traitement du lot 9/17\n",
      "Traitement du lot 10/17\n",
      "Traitement du lot 11/17\n",
      "Traitement du lot 12/17\n",
      "Traitement du lot 13/17\n",
      "Traitement du lot 14/17\n",
      "Traitement du lot 15/17\n",
      "Traitement du lot 16/17\n",
      "Traitement du lot 17/17\n"
     ]
    }
   ],
   "source": [
    "# type: ignore\n",
    "\n",
    "# Utilisation avec FAISS (= moteur de stockage vectoriel)\n",
    "# Objectif : Permettre une recherche de similarité efficace\n",
    "\n",
    "# Le kernel crash lors de la création de l'index vectoriel :\n",
    "# TEST 1 : Toujours avec FAISS mais avec un traitement par lots (batch)\n",
    "# TEST 2 SI PERSISTENCE ERREURS AVEC FAIS : Utiliser Chroma\n",
    "\n",
    "# Onn passe de 39 lots à 17 après suppression des livres pour tenter d'avoir un fichier avec une taille correcte\n",
    "\n",
    "from langchain.vectorstores import FAISS\n",
    "\n",
    "# Mise en place du traitement par lot : \n",
    "batch_size = 500\n",
    "\n",
    "vectorstore = None\n",
    "\n",
    "\"\"\"index = VectorstoreIndexCreator(\n",
    "    embedding=embedding_model,\n",
    "    vectorstore_cls=FAISS\n",
    "\n",
    "    # Création de l'index vectoriel\n",
    ").from_documents(documents)\"\"\"\n",
    "\n",
    "# Traitement des documents par lots\n",
    "for i in range(0, len(documents), batch_size):\n",
    "    batch_docs = documents[i:i+batch_size]\n",
    "    print(f\"Traitement du lot {i//batch_size + 1}/{(len(documents) + batch_size - 1)//batch_size}\")\n",
    "\n",
    "    if vectorstore is None:\n",
    "        vectorstore = FAISS.from_documents(batch_docs, embedding_model)\n",
    "    else:\n",
    "        new_vectorstore = FAISS.from_documents(batch_docs, embedding_model)\n",
    "        vectorstore.merge_from(new_vectorstore)\n",
    "\n",
    "# Enregistrement de l'index complet\n",
    "vectorstore.save_local(\"book_index\")"
   ]
  },
  {
   "cell_type": "code",
   "execution_count": 90,
   "metadata": {},
   "outputs": [
    {
     "name": "stdout",
     "output_type": "stream",
     "text": [
      "Nombre de docs créés : 8250\n"
     ]
    }
   ],
   "source": [
    "print(f\"Nombre de docs créés : {len(documents)}\")"
   ]
  },
  {
   "cell_type": "code",
   "execution_count": 91,
   "metadata": {},
   "outputs": [],
   "source": [
    "# Import du fichier enregistré précédemment\n",
    "\n",
    "from langchain.vectorstores import FAISS\n",
    "\n",
    "vectorstore = FAISS.load_local(\n",
    "    \"book_index\",\n",
    "    embeddings=embedding_model,\n",
    "    # Ligne ci dessous à ajouter sinon erreur lors du lancement de la cellule\n",
    "    allow_dangerous_deserialization=True\n",
    ")"
   ]
  },
  {
   "cell_type": "code",
   "execution_count": 92,
   "metadata": {},
   "outputs": [],
   "source": [
    "# Création du retriever\n",
    "retriever = vectorstore.as_retriever()"
   ]
  },
  {
   "cell_type": "code",
   "execution_count": 93,
   "metadata": {},
   "outputs": [],
   "source": [
    "# Initialisation du modèle de langage conversationnel Azure OpenAI\n",
    "\n",
    "from langchain.chat_models import AzureChatOpenAI\n",
    "\n",
    "llm = AzureChatOpenAI(\n",
    "                        api_key=azure_openai_api_key,\n",
    "                        api_version=\"2023-12-01-preview\",\n",
    "                        azure_endpoint=azure_openai_api_endpoint,\n",
    "                        model=azure_deployment_name,\n",
    "                        temperature=0\n",
    "                        )"
   ]
  },
  {
   "cell_type": "code",
   "execution_count": 94,
   "metadata": {},
   "outputs": [],
   "source": [
    "# Utilisation d'un prompt personnalisé\n",
    "\n",
    "from langchain.chains import RetrievalQA\n",
    "from langchain.prompts import PromptTemplate\n",
    "\n",
    "prompt_template = \"\"\"\n",
    "Vous êtes un assistant expert en littérature.\n",
    "\n",
    "Utilisez les informations suivantes sur les livres pour répondre à la question de manière précise et détaillée.\n",
    "\n",
    "Informations :\n",
    "{context}\n",
    "\n",
    "Question :\n",
    "{question}\n",
    "\n",
    "Réponse :\n",
    "\"\"\"\n",
    "\n",
    "PROMPT = PromptTemplate(\n",
    "    template=prompt_template, input_variables=[\"context\", \"question\"]\n",
    ")"
   ]
  },
  {
   "cell_type": "code",
   "execution_count": 95,
   "metadata": {},
   "outputs": [],
   "source": [
    "# Création de la chaine de Questions / Réponses\n",
    "\n",
    "qa_chain = RetrievalQA.from_chain_type(\n",
    "    llm=llm,\n",
    "    retriever=retriever,\n",
    "    # importer le prompt personnalisé\n",
    "    chain_type_kwargs={\"prompt\": PROMPT}\n",
    ")"
   ]
  },
  {
   "cell_type": "code",
   "execution_count": 96,
   "metadata": {},
   "outputs": [
    {
     "name": "stdout",
     "output_type": "stream",
     "text": [
      "Les thèmes principaux de \"Les Misérables\" de Victor Hugo incluent :\n",
      "\n",
      "1. **Justice et Injustice** : Le roman explore les systèmes judiciaires et les inégalités sociales, illustrant comment la loi peut être à la fois oppressive et injuste, notamment à travers le personnage de Jean Valjean, qui est emprisonné pour un vol mineur.\n",
      "\n",
      "2. **Rédemption et Morale** : Le parcours de Jean Valjean est central, montrant sa quête de rédemption et de transformation personnelle. Le personnage du Bishop Myriel incarne la compassion et la charité, influençant Valjean à changer de vie.\n",
      "\n",
      "3. **Lutte entre le Bien et le Mal** : Les personnages sont souvent confrontés à des choix moraux complexes, symbolisant la lutte constante entre les forces du bien et du mal.\n",
      "\n",
      "4. **Pauvreté et Marginalisation** : Hugo met en lumière la misère des classes défavorisées, soulignant les conditions de vie difficiles des pauvres et des opprimés dans la société post-révolutionnaire française.\n",
      "\n",
      "5. **Amour et Sacrifice** : Les relations, notamment entre Valjean et Cosette, ainsi que les sacrifices faits par les personnages pour leurs proches, sont des éléments clés du récit.\n",
      "\n",
      "6. **Révolution et Espoir** : À travers les événements comme les barricades de Paris, le roman aborde les idéaux révolutionnaires et l'espoir d'un avenir meilleur, malgré les luttes et les sacrifices.\n",
      "\n",
      "Ces thèmes sont tissés tout au long du roman, offrant une réflexion profonde sur la condition humaine et les défis sociaux de l'époque.\n"
     ]
    }
   ],
   "source": [
    "#Exemple d'utilisation 1\n",
    "question = \"Quels sont les thèmes principaux du livre 'Les Misérables' ?\"\n",
    "answer = qa_chain.run(question)\n",
    "print(answer)"
   ]
  },
  {
   "cell_type": "code",
   "execution_count": 97,
   "metadata": {},
   "outputs": [
    {
     "name": "stdout",
     "output_type": "stream",
     "text": [
      "Les principaux livres de Shakespeare incluent :\n",
      "\n",
      "1. **\"The Complete Works of William Shakespeare\"** : Une anthologie complète de ses œuvres, comprenant des sonnets, des comédies, des histoires et des tragédies. Les thèmes majeurs incluent l'amour, l'ambition, la trahison et la complexité de la nature humaine.\n",
      "\n",
      "2. **\"Shakespeare's First Folio\"** : Une collection de ses pièces publiée au début du 17e siècle, visant à préserver son héritage littéraire. Elle inclut des œuvres emblématiques comme \"The Tempest,\" \"Romeo and Juliet,\" et \"Macbeth.\"\n",
      "\n",
      "3. **\"Roméo et Juliette\"** : Une tragédie iconique sur l'amour tragique entre deux jeunes amants issus de familles rivales, les Montecchi et les Capuletti, à Vérone.\n",
      "\n",
      "4. **\"Périclès\"** : Une tragédie qui suit les aventures du prince Périclès de Tyr, explorant des thèmes de danger, d'amour et de quête familiale à travers ses voyages.\n",
      "\n",
      "Ces œuvres illustrent la maîtrise de Shakespeare dans divers genres littéraires et son impact durable sur la littérature mondiale.\n"
     ]
    }
   ],
   "source": [
    "# Exemple d'utilisation 2\n",
    "question = \"Quels sont les principaux livres de Shakespeare ?\"\n",
    "answer = qa_chain.run(question)\n",
    "print(answer)"
   ]
  },
  {
   "cell_type": "code",
   "execution_count": 98,
   "metadata": {},
   "outputs": [
    {
     "name": "stdout",
     "output_type": "stream",
     "text": [
      "Les personnages principaux de \"The Boy Trapper\" de Harry Castlemon sont David Evans, son frère Dan, et Lester Brigham. Le livre traite de la détermination de David à améliorer la situation financière de sa famille en piégeant des cailles. L'histoire explore des thèmes tels que la famille, l'ambition et la rivalité. David doit naviguer à travers les conflits avec son frère Dan, qui veut une part des gains potentiels, et Lester, un nouveau venu qui menace ses plans. Le récit se déroule dans un contexte post-guerre où David et sa mère doivent faire face aux conséquences des actions imprudentes de son père pendant la guerre, tout en essayant de subvenir aux besoins de la famille.\n"
     ]
    }
   ],
   "source": [
    "# Exemple d'utilisation 3\n",
    "question = \"Quels sont les personnages principaux de 'The Boy Trapper' et de quel sujet traite ce livre ?\"\n",
    "answer = qa_chain.run(question)\n",
    "print(answer)"
   ]
  },
  {
   "cell_type": "code",
   "execution_count": 99,
   "metadata": {},
   "outputs": [
    {
     "name": "stdout",
     "output_type": "stream",
     "text": [
      "\"Les Fleurs du mal\" de Charles Baudelaire est une œuvre poétique majeure du 19e siècle, explorant des thèmes variés et profonds. Voici les principaux thèmes abordés dans ce recueil :\n",
      "\n",
      "1. **La Beauté et la Décadence** : Baudelaire explore la dualité entre la beauté et la corruption, souvent en juxtaposant des images sublimes avec des réalités sordides.\n",
      "\n",
      "2. **Le Spleen et l'Idéal** : Ce thème central oppose l'aspiration à l'idéal, à la beauté et à l'élévation spirituelle, au spleen, qui représente l'ennui, la mélancolie et le désespoir.\n",
      "\n",
      "3. **L'Amour et l'Érotisme** : Les poèmes traitent de l'amour sous ses formes les plus passionnées et parfois destructrices, mêlant désir charnel et quête de l'idéal.\n",
      "\n",
      "4. **La Mort et la Mortalité** : La mort est omniprésente, vue à la fois comme une fin inévitable et une possible libération de la souffrance terrestre.\n",
      "\n",
      "5. **La Ville et la Modernité** : Baudelaire décrit Paris comme un lieu de modernité, de mouvement et de transformation, tout en soulignant l'aliénation et la solitude urbaine.\n",
      "\n",
      "6. **La Révolte et la Transgression** : Le recueil aborde la rébellion contre les normes sociales et morales, souvent par le biais de figures marginales ou d'images provocantes.\n",
      "\n",
      "7. **La Nature et l'Art** : Baudelaire explore la relation entre l'artiste et la nature, souvent en cherchant à transcender la réalité par l'art.\n",
      "\n",
      "Ces thèmes sont tissés à travers des poèmes qui allient une richesse stylistique à une profondeur philosophique, faisant de \"Les Fleurs du mal\" une œuvre complexe et intemporelle.\n"
     ]
    }
   ],
   "source": [
    "# Exemple d'utilisation 4\n",
    "question = \"Quels sont les thèmes principaux dans 'Les fleurs du mal' ?\"\n",
    "answer = qa_chain.run(question)\n",
    "print(answer)"
   ]
  },
  {
   "cell_type": "code",
   "execution_count": 23,
   "metadata": {},
   "outputs": [
    {
     "name": "stdout",
     "output_type": "stream",
     "text": [
      "\"Fairy Tales from the Arabian Nights\" par E. Dixon est une collection de contes fantastiques inspirés du folklore moyen-oriental, éditée au XIXe siècle. Les histoires explorent des thèmes d'amour, de magie et d'aventure, mettant en scène des personnages comme le Prince Beder et la Reine Gulnare. Le récit débute avec un roi de Perse découvrant le passé tragique de sa reine, ouvrant la voie à des quêtes royales et des défis magiques, tout en soulignant la loyauté et la quête d'identité.\n"
     ]
    }
   ],
   "source": [
    "# Exemple 5\n",
    "question = \"Fais moi un très bref résumé de 'Fairy Tales from the Arabian Nights' ?\"\n",
    "answer = qa_chain.run(question)\n",
    "print(answer)"
   ]
  },
  {
   "cell_type": "code",
   "execution_count": 24,
   "metadata": {},
   "outputs": [
    {
     "name": "stdout",
     "output_type": "stream",
     "text": [
      "Je suis désolé, mais je ne peux pas prédire la météo. Cependant, je peux vous aider avec des informations sur la littérature ou d'autres sujets. Si vous avez des questions sur les livres mentionnés ou d'autres œuvres littéraires, n'hésitez pas à me le faire savoir !\n"
     ]
    }
   ],
   "source": [
    "# Exemple d'utilisation autre que sur les livres \n",
    "question = \"Quel temps fera-t-il demain ?\"\n",
    "answer = qa_chain.run(question)\n",
    "print(answer)"
   ]
  },
  {
   "cell_type": "code",
   "execution_count": 25,
   "metadata": {},
   "outputs": [
    {
     "name": "stdout",
     "output_type": "stream",
     "text": [
      "En tant qu'assistant virtuel, je n'ai pas de préférences personnelles, mais je peux vous dire que le chocolat est souvent apprécié pour sa saveur riche et réconfortante. Dans \"The Story of a Candy Rabbit\" de Laura Lee Hope, le chocolat joue un rôle dans l'univers des jouets, notamment avec le personnage du lapin en chocolat, ajoutant une touche de douceur et de magie à l'histoire. Si vous aimez les récits qui explorent l'imagination et l'amitié, ce livre pourrait vous plaire.\n"
     ]
    }
   ],
   "source": [
    "# Exemple d'utilisation autre que sur les livres \n",
    "question = \"Aimes-tu le chocolat ?\"\n",
    "answer = qa_chain.run(question)\n",
    "print(answer)"
   ]
  },
  {
   "cell_type": "code",
   "execution_count": 105,
   "metadata": {},
   "outputs": [],
   "source": [
    "# Etape de récupération du texte complet d'un livre (si demandé par l'utilisateur) depuis le .txt sur le site\n",
    "# Et répondre à des questions dessus\n",
    "\n",
    "from langchain.document_loaders import GutenbergLoader\n",
    "from langchain.vectorstores import FAISS\n",
    "from langchain.text_splitter import RecursiveCharacterTextSplitter\n",
    "\n",
    "def full_txt_question(title, question):\n",
    "    \"\"\"\n",
    "    Pose une question sur le texte complet d'un livre.\n",
    "\n",
    "    Args:\n",
    "        title (str): Titre du livre.\n",
    "        question (str): Question à poser.\n",
    "\n",
    "    Returns:\n",
    "        str: Réponse de l'agent.\n",
    "    \"\"\"\n",
    "    # Récupération de l'ID du livre à partir du titre\n",
    "    matching_books = gutenberg_data[gutenberg_data[\"Title\"].str.lower() == title.lower()]\n",
    "    if matching_books.empty:\n",
    "        return f\"Aucun livre intitulé '{title}' n'a été trouvé.\"\n",
    "\n",
    "    book_id = matching_books.iloc[0][\"EBook-No.\"]\n",
    "\n",
    "    # Si le vectorstore du livre existe déja on va le charger, sinon on va charger le texte complet depuis l'url\n",
    "    vectorstore_path = f\"vectorstores/vectorstore_{book_id}\"\n",
    "    if os.path.exists(vectorstore_path):\n",
    "        \n",
    "        full_txt_vectorstore = FAISS.load_local(\n",
    "            vectorstore_path,\n",
    "            embeddings=embedding_model,\n",
    "            allow_dangerous_deserialization=True\n",
    "        )\n",
    "        print(f\"Vectorstore chargé depuis {vectorstore_path}.\")\n",
    "    else:\n",
    "    # Texte complet\n",
    "        url = f\"https://www.gutenberg.org/files/{book_id}/{book_id}-0.txt\"\n",
    "        try:\n",
    "            loader = GutenbergLoader(url)\n",
    "            full_txt_documents = loader.load()\n",
    "            print(f\"Texte complet du livre {book_id} chargé avec succès depuis {url}\")\n",
    "        except Exception as e:\n",
    "            print(f\"Erreur lors du chargement du texte {book_id}: {e}\")\n",
    "            return \"Impossible de charger le texte complet.\"\n",
    "\n",
    "# Utiliser un TextSplitter pour diviser le document en chunks sinon erreur (rate limit)\n",
    "        text_splitter = RecursiveCharacterTextSplitter(\n",
    "            chunk_size=2000,\n",
    "            chunk_overlap=100\n",
    "        )\n",
    "        split_documents = text_splitter.split_documents(full_txt_documents)\n",
    "\n",
    "        try:\n",
    "            full_txt_vectorstore = FAISS.from_documents(split_documents, embedding_model)\n",
    "            # Sauvegarder le vectorstore pour une utilisation future\n",
    "            full_txt_vectorstore.save_local(vectorstore_path)\n",
    "            print(f\"Vectorstore du livre sauvegardé dans {vectorstore_path}.\")\n",
    "        except Exception as e:\n",
    "            print(f\"Erreur lors de la création du vectorstore: {e}\")\n",
    "            return \"Impossible de créer le vectorstore.\"\n",
    "\n",
    "    retriever = full_txt_vectorstore.as_retriever()\n",
    "\n",
    "    qa_chain_full_text = RetrievalQA.from_chain_type(\n",
    "        llm=llm,\n",
    "        retriever=retriever,\n",
    "        chain_type_kwargs={\"prompt\": PROMPT}\n",
    "    )\n",
    "\n",
    "    try:\n",
    "            answer = qa_chain_full_text.run(question)\n",
    "            return answer\n",
    "    except Exception as e:\n",
    "            print(f\"Erreur lors de l'obtention de la réponse: {e}\")\n",
    "            return \"Impossible de générer une réponse.\""
   ]
  },
  {
   "cell_type": "code",
   "execution_count": 106,
   "metadata": {},
   "outputs": [
    {
     "name": "stdout",
     "output_type": "stream",
     "text": [
      "Vectorstore chargé depuis vectorstores/vectorstore_135.\n",
      "Réponse : La transformation de Jean Valjean dans *Les Misérables* de Victor Hugo est l'un des arcs narratifs les plus puissants et émouvants de la littérature. Voici une description détaillée de son évolution :\n",
      "\n",
      "1. **Origines et Condamnation** : Jean Valjean commence comme un homme ordinaire, mais la pauvreté le pousse à voler un pain pour nourrir sa famille. Ce vol mineur lui vaut une condamnation sévère à cinq ans de bagne, qui se prolonge à dix-neuf ans en raison de tentatives d'évasion. Cette période le transforme en un homme amer et rempli de haine envers la société, qu'il perçoit comme injuste et cruelle.\n",
      "\n",
      "2. **Rencontre avec l'Évêque** : Après sa libération, Valjean est accueilli par l'évêque Myriel, qui lui offre l'hospitalité. Lorsque Valjean vole l'argenterie de l'évêque, celui-ci le couvre en prétendant lui avoir donné les objets. Cet acte de bonté et de pardon bouleverse Valjean, semant les graines de sa rédemption.\n",
      "\n",
      "3. **Lutte Intérieure** : Valjean est confronté à un profond conflit intérieur. L'acte de l'évêque le pousse à reconsidérer sa vie et ses choix. Il réalise que la haine et la vengeance ne sont pas les seules voies possibles. Cette prise de conscience est marquée par une scène poignante où il pleure pour la première fois en dix-neuf ans, symbolisant le début de sa transformation.\n",
      "\n",
      "4. **Nouvelle Identité et Rédemption** : Valjean décide de changer de vie. Il adopte une nouvelle identité, devient un homme d'affaires prospère et un maire bienveillant sous le nom de Monsieur Madeleine. Il consacre sa vie à aider les autres, illustrant sa rédemption par des actes de générosité et de compassion.\n",
      "\n",
      "5. **Confrontation avec le Passé** : Malgré ses efforts pour mener une vie honnête, son passé le rattrape. Il est constamment poursuivi par Javert, un inspecteur de police inflexible. Valjean doit faire face à des dilemmes moraux, notamment lorsqu'il décide de se dénoncer pour sauver un innocent accusé à sa place.\n",
      "\n",
      "6. **Sacrifice et Amour** : La transformation de Valjean culmine dans son amour pour Cosette, la fille de Fantine. Il devient son protecteur et père adoptif, sacrifiant tout pour son bonheur. Son amour pour Cosette symbolise sa rédemption complète et son humanité retrouvée.\n",
      "\n",
      "7. **Mort et Réconciliation** : À la fin du roman, Valjean meurt en paix, réconcilié avec lui-même et avec Dieu. Sa vie, marquée par la souffrance, la rédemption et l'amour, est un témoignage de la capacité de l'homme à changer et à trouver la rédemption.\n",
      "\n",
      "En somme, Jean Valjean passe d'un homme brisé et rempli de haine à un être de lumière et de bonté, grâce à la compassion et au pardon qu'il reçoit et qu'il offre à son tour.\n"
     ]
    }
   ],
   "source": [
    "# Exemple d'utilisation\n",
    "title = \"Les Misérables\"\n",
    "question = \"Décris la transformation de Jean Valjean tout au long du livre.\"\n",
    "\n",
    "answer = full_txt_question(title, question)\n",
    "print(f\"Réponse : {answer}\")"
   ]
  },
  {
   "cell_type": "code",
   "execution_count": 110,
   "metadata": {},
   "outputs": [
    {
     "name": "stdout",
     "output_type": "stream",
     "text": [
      "Texte complet du livre 2745 chargé avec succès depuis https://www.gutenberg.org/files/2745/2745-0.txt\n",
      "Vectorstore du livre sauvegardé dans vectorstores/vectorstore_2745.\n",
      "Réponse : Le livre se déroule dans le contexte tumultueux de l'Europe post-napoléonienne, particulièrement en Allemagne. Après la chute de Napoléon, les espoirs de liberté et de réforme politique des jeunes idéalistes allemands, comme Sand, sont déçus. Les traités de 1815 et la nouvelle constitution germanique entraînent une réaction sévère, où les jeunes qui avaient combattu pour la liberté se retrouvent sous le joug des petits princes allemands. Les universités deviennent des refuges pour ces idées de liberté, malgré la répression exercée par la Sainte-Alliance. Sand, un jeune homme engagé dans ce mouvement, est profondément affecté par la déception de ses espoirs politiques, ce qui se reflète dans son journal intime empreint de mysticisme et de tristesse. Le livre explore également l'organisation de sociétés secrètes en Allemagne, qui cherchent à résister à l'oppression et à maintenir vivantes les idées de liberté et de réforme.\n"
     ]
    }
   ],
   "source": [
    "# Exemple d'utilisation\n",
    "title = \"Karl Ludwig SandCelebrated Crimes\"\n",
    "question = \"Quel est le contexte du livre?\"\n",
    "\n",
    "answer = full_txt_question(title, question)\n",
    "print(f\"Réponse : {answer}\")"
   ]
  },
  {
   "cell_type": "markdown",
   "metadata": {},
   "source": [
    "#### NEXT STEPS : "
   ]
  },
  {
   "cell_type": "markdown",
   "metadata": {},
   "source": [
    "##### 1. RAG Evaluation (manuelle / boucle) : \n",
    "\n"
   ]
  },
  {
   "cell_type": "code",
   "execution_count": 103,
   "metadata": {},
   "outputs": [],
   "source": [
    "test_questions = [\n",
    "    {\n",
    "        \"question\": \"Quels sont les thèmes principaux du livre 'Les Misérables' ?\",\n",
    "        \"expected_answer\": \"Les thèmes principaux incluent la justice sociale, la rédemption, l'amour, et la pauvreté.\"\n",
    "    },\n",
    "    {\n",
    "        \"question\": \"Qui sont les personnages principaux dans le résumé du livre 'Le Comte de Monte-Cristo' ?\",\n",
    "        \"expected_answer\": \"Les personnages principaux sont Edmond Dantès, Mercédès, Fernand, Danglars, Andrea Cavalcanti, et la famille Villefort.\"\n",
    "    },\n",
    "    {\n",
    "        \"question\": \"Quels sont les thèmes principaux du livre 'Les fleurs du mal' ?\",\n",
    "        \"expected_answer\": \"Les thèmes principaux sont la mélancolie, la beauté, la société, et la lutte morale.\"\n",
    "    },\n",
    "    {\n",
    "        \"question\": \"Résume moi 'Fairy Tales from the Arabian Nights' ?\",\n",
    "        \"expected_answer\": \"C'est une collection de contes fantastiques inspirés du folklore moyen-oriental dont Les histoires explorent des thèmes de l'amour, de la magie et de l'aventure\"\n",
    "    }\n",
    "]"
   ]
  },
  {
   "cell_type": "code",
   "execution_count": 104,
   "metadata": {},
   "outputs": [],
   "source": [
    "def agent_evaluation(qa_chain, test_questions):\n",
    "    correct_answers = 0\n",
    "    total_questions = len(test_questions)\n",
    "\n",
    "    for idx, test in enumerate(test_questions, 1):\n",
    "        try:\n",
    "            answer = qa_chain.run(test[\"question\"])\n",
    "            print(\"=\" * 50)\n",
    "            print(f\"Question {idx}: {test['question']}\")\n",
    "            print(f\"Réponse de l'agent: {answer}\")\n",
    "            print(f\"Réponse attendue: {test['expected_answer']}\")\n",
    "            \n",
    "            expected_keywords = test[\"expected_answer\"]\n",
    "            match_count = 0\n",
    "            for keyword in expected_keywords:\n",
    "                if keyword.lower() in answer.lower():\n",
    "                    match_count += 1\n",
    "            \n",
    "            if match_count == len(expected_keywords):\n",
    "                correct_answers += 1\n",
    "                print(\"\\n✅ Cette réponse est CORRECTE.\\n\")\n",
    "            else:\n",
    "                print(f\"\\n⚠️ Réponse partiellement correcte : {match_count}/{len(expected_keywords)} correspondances.\\n\")\n",
    "        except Exception as e:\n",
    "            print(f\"\\n❌ Erreur lors de la réponse à la question {idx}: {e}\\n\")\n",
    "    \n",
    "    accuracy = (correct_answers / total_questions) * 100\n",
    "    print(\"=\" * 50)\n",
    "    print(f\"Précision de l'agent: {accuracy:.2f}%\")\n",
    "    print(\"=\" * 50)\n"
   ]
  },
  {
   "cell_type": "code",
   "execution_count": 44,
   "metadata": {},
   "outputs": [
    {
     "name": "stdout",
     "output_type": "stream",
     "text": [
      "==================================================\n",
      "Question 1: Quels sont les thèmes principaux du livre 'Les Misérables' ?\n",
      "Réponse de l'agent: Les thèmes principaux de \"Les Misérables\" de Victor Hugo incluent :\n",
      "\n",
      "1. **Justice et Injustice** : Le roman explore les systèmes judiciaires et les inégalités sociales, illustrant comment la loi peut être à la fois oppressive et injuste, notamment à travers le personnage de Jean Valjean, qui est sévèrement puni pour un vol mineur.\n",
      "\n",
      "2. **Rédemption et Morale** : Le parcours de Jean Valjean est central, montrant sa quête de rédemption et de transformation personnelle. Le personnage du Bishop Myriel incarne la compassion et le pardon, influençant Valjean à changer de vie.\n",
      "\n",
      "3. **Lutte entre le Bien et le Mal** : Les personnages sont souvent confrontés à des choix moraux, et le roman examine la nature humaine, la capacité de faire le bien malgré un passé trouble, et la lutte intérieure entre les forces du bien et du mal.\n",
      "\n",
      "4. **Pauvreté et Marginalisation** : Hugo met en lumière la misère des classes défavorisées, soulignant les conditions de vie difficiles des pauvres et des opprimés, et critiquant les structures sociales qui perpétuent ces inégalités.\n",
      "\n",
      "5. **Amour et Sacrifice** : Les relations entre les personnages, comme celle entre Valjean et Cosette, sont marquées par l'amour et le sacrifice, illustrant la capacité de l'amour à transcender les difficultés.\n",
      "\n",
      "6. **Révolution et Espoir** : À travers les événements historiques et les insurrections, le roman aborde les luttes pour la liberté et l'égalité, symbolisées par les barricades et les idéaux des personnages comme Enjolras et Marius.\n",
      "\n",
      "Ces thèmes sont tissés dans une narration riche qui combine des réflexions philosophiques avec des récits personnels, créant une œuvre complexe et émotive.\n",
      "Réponse attendue: Les thèmes principaux incluent la justice sociale, la rédemption, l'amour, et la pauvreté.\n",
      "\n",
      "✅ Cette réponse est CORRECTE.\n",
      "\n",
      "==================================================\n",
      "Question 2: Qui sont les personnages principaux dans le résumé du livre 'Le Comte de Monte-Cristo' ?\n",
      "Réponse de l'agent: Dans le résumé du livre \"Le Comte de Monte-Cristo, Tome I\", les personnages principaux mentionnés sont :\n",
      "\n",
      "1. **Edmond Dantès** : Le protagoniste, un jeune marin injustement emprisonné, qui devient le Comte de Monte-Cristo pour se venger.\n",
      "\n",
      "2. **Mercedes** : La bien-aimée d'Edmond Dantès, qu'il espère épouser.\n",
      "\n",
      "3. **Fernand** : Le rival jaloux d'Edmond, impliqué dans sa trahison.\n",
      "\n",
      "4. **Danglars** : Un autre conspirateur qui joue un rôle dans la chute de Dantès.\n",
      "\n",
      "Ces personnages sont centraux dans l'intrigue de vengeance et de justice qui se développe dans le roman.\n",
      "Réponse attendue: Les personnages principaux sont Edmond Dantès, Mercédès, Fernand, Danglars, Andrea Cavalcanti, et la famille Villefort.\n",
      "\n",
      "✅ Cette réponse est CORRECTE.\n",
      "\n",
      "==================================================\n",
      "Question 3: Quels sont les thèmes principaux du livre 'Les fleurs du mal' ?\n",
      "Réponse de l'agent: \"Les Fleurs du mal\" de Charles Baudelaire est une œuvre poétique majeure du 19e siècle, explorant des thèmes variés et profonds. Les principaux thèmes incluent :\n",
      "\n",
      "1. **La Beauté et la Décadence** : Baudelaire explore la dualité entre la beauté et la corruption, souvent en mettant en avant la beauté dans des contextes sombres ou dégradés.\n",
      "\n",
      "2. **Le Spleen et l'Idéal** : Ce thème central oppose le spleen, un sentiment de mélancolie et de désespoir, à l'idéal, une quête de beauté et de transcendance.\n",
      "\n",
      "3. **L'Amour et l'Érotisme** : Les poèmes abordent les complexités de l'amour, souvent teinté de désir, de souffrance et de frustration.\n",
      "\n",
      "4. **La Mort et la Mortalité** : La mort est omniprésente, vue à la fois comme une fin inévitable et une libération possible.\n",
      "\n",
      "5. **La Ville et la Modernité** : Paris est souvent dépeinte comme un lieu de modernité, de chaos et de beauté, reflétant les tensions de la vie urbaine.\n",
      "\n",
      "6. **La Révolte et la Spiritualité** : Baudelaire exprime une révolte contre la société et explore des questions spirituelles, souvent avec un ton provocateur.\n",
      "\n",
      "Ces thèmes sont tissés à travers des images puissantes et un langage riche, faisant de \"Les Fleurs du mal\" une exploration complexe de la condition humaine.\n",
      "Réponse attendue: Les thèmes principaux sont la mélancolie, la beauté, la société, et la lutte morale.\n",
      "\n",
      "✅ Cette réponse est CORRECTE.\n",
      "\n",
      "==================================================\n",
      "Question 4: Résume moi 'Fairy Tales from the Arabian Nights' ?\n",
      "Réponse de l'agent: \"Fairy Tales from the Arabian Nights\" par E. Dixon est une collection de contes fantastiques éditée et abrégée à la fin du 19e siècle. Inspirée par le folklore du Moyen-Orient, cette série explore des thèmes de l'amour, de la magie et de l'aventure dans un monde richement imaginé. Les récits mettent en scène divers personnages, tels que des rois, des reines et des êtres magiques, avec des histoires centrales autour de figures comme le Prince Beder et la Reine Gulnare.\n",
      "\n",
      "L'ouverture présente un conte captivant sur un roi de Perse qui découvre le passé tragique et la lignée royale de sa belle esclave devenue reine après une année de silence. Le récit se développe avec le Prince Beder, révélant ses rencontres et aventures destinées dans sa quête de l'amour et ses confrontations avec des défis magiques, y compris des transformations et des quêtes royales. Le texte instaure une atmosphère de mystère et d'attrait, entraînant les lecteurs dans un monde peuplé d'êtres fantastiques et de relations complexes, tout en soulignant le thème de la loyauté et la lutte pour l'identité au milieu des enchantements.\n",
      "Réponse attendue: C'est une collection de contes fantastiques inspirés du folklore moyen-oriental dont Les histoires explorent des thèmes de l'amour, de la magie et de l'aventure\n",
      "\n",
      "✅ Cette réponse est CORRECTE.\n",
      "\n",
      "==================================================\n",
      "Précision de l'agent: 100.00%\n",
      "==================================================\n"
     ]
    }
   ],
   "source": [
    "agent_evaluation(qa_chain, test_questions)"
   ]
  },
  {
   "cell_type": "markdown",
   "metadata": {},
   "source": [
    "##### 1. RAG Evaluation (langSmith) : "
   ]
  },
  {
   "cell_type": "markdown",
   "metadata": {},
   "source": [
    "## VOIR NOTEBOOK langsmith_evaluation.ipynb"
   ]
  },
  {
   "cell_type": "markdown",
   "metadata": {},
   "source": [
    "##### 2. Fast API"
   ]
  },
  {
   "cell_type": "markdown",
   "metadata": {},
   "source": [
    "##### 3. Azure Deployment"
   ]
  },
  {
   "cell_type": "markdown",
   "metadata": {},
   "source": []
  }
 ],
 "metadata": {
  "kernelspec": {
   "display_name": "langchain_env",
   "language": "python",
   "name": "python3"
  },
  "language_info": {
   "codemirror_mode": {
    "name": "ipython",
    "version": 3
   },
   "file_extension": ".py",
   "mimetype": "text/x-python",
   "name": "python",
   "nbconvert_exporter": "python",
   "pygments_lexer": "ipython3",
   "version": "3.10.15"
  }
 },
 "nbformat": 4,
 "nbformat_minor": 2
}
