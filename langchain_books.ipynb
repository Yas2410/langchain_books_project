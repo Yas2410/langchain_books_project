{
 "cells": [
  {
   "cell_type": "code",
   "execution_count": 1,
   "metadata": {},
   "outputs": [],
   "source": [
    "#Imports\n",
    "# type: ignore\n",
    "import os\n",
    "from dotenv import load_dotenv\n",
    "import pandas as pd\n",
    "\n",
    "from langchain.embeddings import AzureOpenAIEmbeddings\n",
    "from langchain.vectorstores import DocArrayInMemorySearch\n",
    "from langchain.indexes import VectorstoreIndexCreator\n",
    "from langchain.document_loaders import DataFrameLoader\n",
    "from langchain.docstore.document import Document"
   ]
  },
  {
   "cell_type": "code",
   "execution_count": 2,
   "metadata": {},
   "outputs": [],
   "source": [
    "# Import des variables d'environnement (.env)\n",
    "\n",
    "load_dotenv()\n",
    "\n",
    "azure_openai_api_key = os.getenv(\"AZURE_OPENAI_API_KEY_4\")\n",
    "azure_openai_api_endpoint = os.getenv(\"AZURE_OPENAI_API_ENDPOINT_4\")\n",
    "azure_deployment_name = os.getenv(\"AZURE_DEPLOYMENT_NAME_4\")"
   ]
  },
  {
   "cell_type": "code",
   "execution_count": 3,
   "metadata": {},
   "outputs": [
    {
     "name": "stderr",
     "output_type": "stream",
     "text": [
      "/tmp/ipykernel_1083/1634952500.py:3: LangChainDeprecationWarning: The class `AzureOpenAIEmbeddings` was deprecated in LangChain 0.0.9 and will be removed in 1.0. An updated version of the class exists in the :class:`~langchain-openai package and should be used instead. To use it run `pip install -U :class:`~langchain-openai` and import as `from :class:`~langchain_openai import AzureOpenAIEmbeddings``.\n",
      "  embedding_model = AzureOpenAIEmbeddings(\n"
     ]
    }
   ],
   "source": [
    "# Initialisation du modèle d'Embeddings\n",
    "\n",
    "embedding_model = AzureOpenAIEmbeddings(\n",
    "    openai_api_key=azure_openai_api_key,\n",
    "    deployment=\"text-embedding-3-large\",\n",
    "    azure_endpoint=azure_openai_api_endpoint,\n",
    "    openai_api_version=\"2023-05-15\",\n",
    "    chunk_size=500\n",
    ")"
   ]
  },
  {
   "cell_type": "code",
   "execution_count": 5,
   "metadata": {},
   "outputs": [],
   "source": [
    "# Import du dataset \n",
    "\n",
    "gutenberg_data = pd.read_csv(\"Data/gutenberg_ebooks.csv\")"
   ]
  },
  {
   "cell_type": "code",
   "execution_count": 6,
   "metadata": {},
   "outputs": [
    {
     "data": {
      "text/html": [
       "<div>\n",
       "<style scoped>\n",
       "    .dataframe tbody tr th:only-of-type {\n",
       "        vertical-align: middle;\n",
       "    }\n",
       "\n",
       "    .dataframe tbody tr th {\n",
       "        vertical-align: top;\n",
       "    }\n",
       "\n",
       "    .dataframe thead th {\n",
       "        text-align: right;\n",
       "    }\n",
       "</style>\n",
       "<table border=\"1\" class=\"dataframe\">\n",
       "  <thead>\n",
       "    <tr style=\"text-align: right;\">\n",
       "      <th></th>\n",
       "      <th>Ebook ID</th>\n",
       "      <th>Author</th>\n",
       "      <th>Title</th>\n",
       "      <th>Credits</th>\n",
       "      <th>Summary</th>\n",
       "      <th>Language</th>\n",
       "      <th>LoC Class</th>\n",
       "      <th>Subject</th>\n",
       "      <th>Subject_2</th>\n",
       "      <th>Subject_3</th>\n",
       "      <th>Subject_4</th>\n",
       "      <th>Category</th>\n",
       "      <th>EBook-No.</th>\n",
       "      <th>Release Date</th>\n",
       "      <th>Most Recently Updated</th>\n",
       "      <th>Copyright Status</th>\n",
       "      <th>Downloads</th>\n",
       "    </tr>\n",
       "  </thead>\n",
       "  <tbody>\n",
       "    <tr>\n",
       "      <th>19924</th>\n",
       "      <td>19996</td>\n",
       "      <td>Various</td>\n",
       "      <td>The Atlantic Monthly, Volume 16, No. 96, Octob...</td>\n",
       "      <td>Produced by Joshua Hutchinson, Josephine Paolu...</td>\n",
       "      <td>\"The Atlantic Monthly, Volume 16, No. 96, Octo...</td>\n",
       "      <td>English</td>\n",
       "      <td>AP: General Works: Periodicals</td>\n",
       "      <td>American periodicals</td>\n",
       "      <td>NaN</td>\n",
       "      <td>NaN</td>\n",
       "      <td>NaN</td>\n",
       "      <td>Text</td>\n",
       "      <td>19996</td>\n",
       "      <td>Dec 2, 2006</td>\n",
       "      <td>NaN</td>\n",
       "      <td>Public domain in the USA.</td>\n",
       "      <td>88 downloads in the last 30 days.</td>\n",
       "    </tr>\n",
       "    <tr>\n",
       "      <th>19925</th>\n",
       "      <td>19997</td>\n",
       "      <td>Ober, Frederick A. (Frederick Albion), 1849-1913</td>\n",
       "      <td>Amerigo Vespucci</td>\n",
       "      <td>Produced by Suzanne Shell, Richard J. Shiffer ...</td>\n",
       "      <td>\"Amerigo Vespucci\" by Frederick A. Ober is a h...</td>\n",
       "      <td>English</td>\n",
       "      <td>E011: History: America: America</td>\n",
       "      <td>Vespucci, Amerigo, 1451-1512</td>\n",
       "      <td>NaN</td>\n",
       "      <td>NaN</td>\n",
       "      <td>NaN</td>\n",
       "      <td>Text</td>\n",
       "      <td>19997</td>\n",
       "      <td>Dec 3, 2006</td>\n",
       "      <td>NaN</td>\n",
       "      <td>Public domain in the USA.</td>\n",
       "      <td>145 downloads in the last 30 days.</td>\n",
       "    </tr>\n",
       "    <tr>\n",
       "      <th>19926</th>\n",
       "      <td>19998</td>\n",
       "      <td>Allen, Lewis Falley, 1800-1890</td>\n",
       "      <td>Rural ArchitectureBeing a Complete Description...</td>\n",
       "      <td>Produced by Louise Hope, Steven Giacomelli and...</td>\n",
       "      <td>\"Rural Architecture\" by Lewis Falley Allen is ...</td>\n",
       "      <td>English</td>\n",
       "      <td>NA: Fine Arts: Architecture</td>\n",
       "      <td>Domestic animals</td>\n",
       "      <td>Architecture, Domestic</td>\n",
       "      <td>NaN</td>\n",
       "      <td>NaN</td>\n",
       "      <td>Text</td>\n",
       "      <td>19998</td>\n",
       "      <td>Dec 3, 2006</td>\n",
       "      <td>NaN</td>\n",
       "      <td>Public domain in the USA.</td>\n",
       "      <td>232 downloads in the last 30 days.</td>\n",
       "    </tr>\n",
       "    <tr>\n",
       "      <th>19927</th>\n",
       "      <td>19999</td>\n",
       "      <td>Trowbridge, J. T. (John Townsend), 1827-1916</td>\n",
       "      <td>The Drummer Boy</td>\n",
       "      <td>Produced by David Edwards and the Online Distr...</td>\n",
       "      <td>\"The Drummer Boy\" by J. T. Trowbridge is a his...</td>\n",
       "      <td>English</td>\n",
       "      <td>PZ: Language and Literatures: Juvenile belles ...</td>\n",
       "      <td>United States -- History -- Civil War, 1861-18...</td>\n",
       "      <td>NaN</td>\n",
       "      <td>NaN</td>\n",
       "      <td>NaN</td>\n",
       "      <td>Text</td>\n",
       "      <td>19999</td>\n",
       "      <td>Dec 3, 2006</td>\n",
       "      <td>NaN</td>\n",
       "      <td>Public domain in the USA.</td>\n",
       "      <td>76 downloads in the last 30 days.</td>\n",
       "    </tr>\n",
       "    <tr>\n",
       "      <th>19928</th>\n",
       "      <td>20000</td>\n",
       "      <td>Verne, Jules, 1828-1905</td>\n",
       "      <td>Twenty Thousand Leagues Under the Sea</td>\n",
       "      <td>NaN</td>\n",
       "      <td>NaN</td>\n",
       "      <td>English</td>\n",
       "      <td>PQ: Language and Literatures: Romance literatu...</td>\n",
       "      <td>Science fiction</td>\n",
       "      <td>Submarines (Ships) -- Fiction</td>\n",
       "      <td>Sea stories</td>\n",
       "      <td>Underwater exploration -- Fiction</td>\n",
       "      <td>Sound</td>\n",
       "      <td>20000</td>\n",
       "      <td>Sep 1, 2007</td>\n",
       "      <td>Jan 30, 2021</td>\n",
       "      <td>Public domain in the USA.</td>\n",
       "      <td>515 downloads in the last 30 days.</td>\n",
       "    </tr>\n",
       "  </tbody>\n",
       "</table>\n",
       "</div>"
      ],
      "text/plain": [
       "       Ebook ID                                            Author  \\\n",
       "19924     19996                                           Various   \n",
       "19925     19997  Ober, Frederick A. (Frederick Albion), 1849-1913   \n",
       "19926     19998                    Allen, Lewis Falley, 1800-1890   \n",
       "19927     19999      Trowbridge, J. T. (John Townsend), 1827-1916   \n",
       "19928     20000                           Verne, Jules, 1828-1905   \n",
       "\n",
       "                                                   Title  \\\n",
       "19924  The Atlantic Monthly, Volume 16, No. 96, Octob...   \n",
       "19925                                   Amerigo Vespucci   \n",
       "19926  Rural ArchitectureBeing a Complete Description...   \n",
       "19927                                    The Drummer Boy   \n",
       "19928              Twenty Thousand Leagues Under the Sea   \n",
       "\n",
       "                                                 Credits  \\\n",
       "19924  Produced by Joshua Hutchinson, Josephine Paolu...   \n",
       "19925  Produced by Suzanne Shell, Richard J. Shiffer ...   \n",
       "19926  Produced by Louise Hope, Steven Giacomelli and...   \n",
       "19927  Produced by David Edwards and the Online Distr...   \n",
       "19928                                                NaN   \n",
       "\n",
       "                                                 Summary Language  \\\n",
       "19924  \"The Atlantic Monthly, Volume 16, No. 96, Octo...  English   \n",
       "19925  \"Amerigo Vespucci\" by Frederick A. Ober is a h...  English   \n",
       "19926  \"Rural Architecture\" by Lewis Falley Allen is ...  English   \n",
       "19927  \"The Drummer Boy\" by J. T. Trowbridge is a his...  English   \n",
       "19928                                                NaN  English   \n",
       "\n",
       "                                               LoC Class  \\\n",
       "19924                     AP: General Works: Periodicals   \n",
       "19925                    E011: History: America: America   \n",
       "19926                        NA: Fine Arts: Architecture   \n",
       "19927  PZ: Language and Literatures: Juvenile belles ...   \n",
       "19928  PQ: Language and Literatures: Romance literatu...   \n",
       "\n",
       "                                                 Subject  \\\n",
       "19924                               American periodicals   \n",
       "19925                       Vespucci, Amerigo, 1451-1512   \n",
       "19926                                   Domestic animals   \n",
       "19927  United States -- History -- Civil War, 1861-18...   \n",
       "19928                                    Science fiction   \n",
       "\n",
       "                           Subject_2    Subject_3  \\\n",
       "19924                            NaN          NaN   \n",
       "19925                            NaN          NaN   \n",
       "19926         Architecture, Domestic          NaN   \n",
       "19927                            NaN          NaN   \n",
       "19928  Submarines (Ships) -- Fiction  Sea stories   \n",
       "\n",
       "                               Subject_4 Category  EBook-No. Release Date  \\\n",
       "19924                                NaN     Text      19996  Dec 2, 2006   \n",
       "19925                                NaN     Text      19997  Dec 3, 2006   \n",
       "19926                                NaN     Text      19998  Dec 3, 2006   \n",
       "19927                                NaN     Text      19999  Dec 3, 2006   \n",
       "19928  Underwater exploration -- Fiction    Sound      20000  Sep 1, 2007   \n",
       "\n",
       "      Most Recently Updated           Copyright Status  \\\n",
       "19924                   NaN  Public domain in the USA.   \n",
       "19925                   NaN  Public domain in the USA.   \n",
       "19926                   NaN  Public domain in the USA.   \n",
       "19927                   NaN  Public domain in the USA.   \n",
       "19928          Jan 30, 2021  Public domain in the USA.   \n",
       "\n",
       "                                Downloads  \n",
       "19924   88 downloads in the last 30 days.  \n",
       "19925  145 downloads in the last 30 days.  \n",
       "19926  232 downloads in the last 30 days.  \n",
       "19927   76 downloads in the last 30 days.  \n",
       "19928  515 downloads in the last 30 days.  "
      ]
     },
     "execution_count": 6,
     "metadata": {},
     "output_type": "execute_result"
    }
   ],
   "source": [
    "gutenberg_data.tail()"
   ]
  },
  {
   "cell_type": "code",
   "execution_count": 6,
   "metadata": {},
   "outputs": [
    {
     "data": {
      "text/plain": [
       "(19929, 17)"
      ]
     },
     "execution_count": 6,
     "metadata": {},
     "output_type": "execute_result"
    }
   ],
   "source": [
    "gutenberg_data.shape"
   ]
  },
  {
   "cell_type": "code",
   "execution_count": 7,
   "metadata": {},
   "outputs": [
    {
     "name": "stdout",
     "output_type": "stream",
     "text": [
      "Ebook ID                     0\n",
      "Author                     874\n",
      "Title                        0\n",
      "Credits                   1563\n",
      "Summary                    819\n",
      "Language                     0\n",
      "LoC Class                    8\n",
      "Subject                      9\n",
      "Subject_2                 8253\n",
      "Subject_3                13595\n",
      "Subject_4                16257\n",
      "Category                     0\n",
      "EBook-No.                    0\n",
      "Release Date                 0\n",
      "Most Recently Updated     1821\n",
      "Copyright Status             0\n",
      "Downloads                    0\n",
      "dtype: int64\n"
     ]
    }
   ],
   "source": [
    "print(gutenberg_data.isnull().sum())"
   ]
  },
  {
   "cell_type": "code",
   "execution_count": 7,
   "metadata": {},
   "outputs": [],
   "source": [
    "gutenberg_data = gutenberg_data.dropna(subset=[\"Summary\", \"Title\", \"Author\"])"
   ]
  },
  {
   "cell_type": "code",
   "execution_count": 8,
   "metadata": {},
   "outputs": [
    {
     "data": {
      "text/plain": [
       "(18335, 17)"
      ]
     },
     "execution_count": 8,
     "metadata": {},
     "output_type": "execute_result"
    }
   ],
   "source": [
    "gutenberg_data.shape"
   ]
  },
  {
   "cell_type": "code",
   "execution_count": 9,
   "metadata": {},
   "outputs": [
    {
     "name": "stdout",
     "output_type": "stream",
     "text": [
      "Ebook ID                     0\n",
      "Author                       0\n",
      "Title                        0\n",
      "Credits                    758\n",
      "Summary                      0\n",
      "Language                     0\n",
      "LoC Class                    2\n",
      "Subject                      3\n",
      "Subject_2                 7558\n",
      "Subject_3                12487\n",
      "Subject_4                14962\n",
      "Category                     0\n",
      "EBook-No.                    0\n",
      "Release Date                 0\n",
      "Most Recently Updated     1731\n",
      "Copyright Status             0\n",
      "Downloads                    0\n",
      "dtype: int64\n"
     ]
    }
   ],
   "source": [
    "print(gutenberg_data.isnull().sum())"
   ]
  },
  {
   "cell_type": "code",
   "execution_count": 10,
   "metadata": {},
   "outputs": [],
   "source": [
    "metadata_columns = [\"Title\", \"Author\", \"Language\", \"Release Date\", \"Subject\", \"Subject_2\", \"Subject_3\", \"Subject_4\"]\n",
    "\n",
    "gutenberg_data[metadata_columns] = gutenberg_data[metadata_columns].fillna('')\n"
   ]
  },
  {
   "cell_type": "code",
   "execution_count": 11,
   "metadata": {},
   "outputs": [],
   "source": [
    "# Fichier .Faiss trop lourd pour être commité. Random pour ne garder que environ 8000 ref et pouvoir commit\n",
    "gutenberg_data = gutenberg_data.sample(n=8250, random_state=42)"
   ]
  },
  {
   "cell_type": "code",
   "execution_count": 12,
   "metadata": {},
   "outputs": [
    {
     "data": {
      "text/plain": [
       "(8250, 17)"
      ]
     },
     "execution_count": 12,
     "metadata": {},
     "output_type": "execute_result"
    }
   ],
   "source": [
    "gutenberg_data.shape"
   ]
  },
  {
   "cell_type": "code",
   "execution_count": 13,
   "metadata": {},
   "outputs": [],
   "source": [
    "# type: ignore\n",
    "from langchain.schema import Document\n",
    "\n",
    "documents = []\n",
    "\n",
    "for idx, row in gutenberg_data.iterrows():\n",
    "\n",
    "    # On va combiner l'ensemble des sujets en un seul bloc\n",
    "    subjects = ', '.join([row[col] for col in [\"Subject\", \"Subject_2\", \"Subject_3\", \"Subject_4\"] if row[col]])\n",
    "    \n",
    "    # Création du dictionnaire des métadonnées avec rassemblement de toutes les informations clé\n",
    "    metadata = {\n",
    "        \"Title\": row[\"Title\"],\n",
    "        \"Author\": row[\"Author\"],\n",
    "        \"Language\": row[\"Language\"],\n",
    "        \"Release Date\": row[\"Release Date\"],\n",
    "        \"Subjects\": subjects\n",
    "    }\n",
    "    \n",
    "    document = Document(page_content=row[\"Summary\"], metadata=metadata)\n",
    "    documents.append(document)"
   ]
  },
  {
   "cell_type": "code",
   "execution_count": 15,
   "metadata": {},
   "outputs": [
    {
     "name": "stdout",
     "output_type": "stream",
     "text": [
      "Traitement du lot 1/17\n",
      "Traitement du lot 2/17\n",
      "Traitement du lot 3/17\n",
      "Traitement du lot 4/17\n",
      "Traitement du lot 5/17\n",
      "Traitement du lot 6/17\n",
      "Traitement du lot 7/17\n",
      "Traitement du lot 8/17\n",
      "Traitement du lot 9/17\n",
      "Traitement du lot 10/17\n",
      "Traitement du lot 11/17\n",
      "Traitement du lot 12/17\n",
      "Traitement du lot 13/17\n",
      "Traitement du lot 14/17\n",
      "Traitement du lot 15/17\n",
      "Traitement du lot 16/17\n",
      "Traitement du lot 17/17\n"
     ]
    }
   ],
   "source": [
    "# type: ignore\n",
    "\n",
    "# Utilisation avec FAISS (= moteur de stockage vectoriel)\n",
    "# Objectif : Permettre une recherche de similarité efficace\n",
    "\n",
    "# Le kernel crash lors de la création de l'index vectoriel :\n",
    "# TEST 1 : Toujours avec FAISS mais avec un traitement par lots (batch)\n",
    "# TEST 2 SI PERSISTENCE ERREURS AVEC FAIS : Utiliser Chroma\n",
    "\n",
    "# Onn passe de 39 lots à 17 après suppression des livres pour tenter d'avoir un fichier avec une taille correcte\n",
    "\n",
    "from langchain.vectorstores import FAISS\n",
    "\n",
    "# Mise en place du traitement par lot : \n",
    "batch_size = 500\n",
    "\n",
    "vectorstore = None\n",
    "\n",
    "\"\"\"index = VectorstoreIndexCreator(\n",
    "    embedding=embedding_model,\n",
    "    vectorstore_cls=FAISS\n",
    "\n",
    "    # Création de l'index vectoriel\n",
    ").from_documents(documents)\"\"\"\n",
    "\n",
    "# Traitement des documents par lots\n",
    "for i in range(0, len(documents), batch_size):\n",
    "    batch_docs = documents[i:i+batch_size]\n",
    "    print(f\"Traitement du lot {i//batch_size + 1}/{(len(documents) + batch_size - 1)//batch_size}\")\n",
    "\n",
    "    if vectorstore is None:\n",
    "        vectorstore = FAISS.from_documents(batch_docs, embedding_model)\n",
    "    else:\n",
    "        new_vectorstore = FAISS.from_documents(batch_docs, embedding_model)\n",
    "        vectorstore.merge_from(new_vectorstore)\n",
    "\n",
    "# Enregistrement de l'index complet\n",
    "vectorstore.save_local(\"book_index\")"
   ]
  },
  {
   "cell_type": "code",
   "execution_count": 14,
   "metadata": {},
   "outputs": [
    {
     "name": "stdout",
     "output_type": "stream",
     "text": [
      "Nombre de docs créés : 8250\n"
     ]
    }
   ],
   "source": [
    "print(f\"Nombre de docs créés : {len(documents)}\")"
   ]
  },
  {
   "cell_type": "code",
   "execution_count": 15,
   "metadata": {},
   "outputs": [],
   "source": [
    "# Import du fichier enregistré précédemment\n",
    "\n",
    "from langchain.vectorstores import FAISS\n",
    "\n",
    "vectorstore = FAISS.load_local(\n",
    "    \"book_index\",\n",
    "    embeddings=embedding_model,\n",
    "    # Ligne ci dessous à ajouter sinon erreur lors du lancement de la cellule\n",
    "    allow_dangerous_deserialization=True\n",
    ")"
   ]
  },
  {
   "cell_type": "code",
   "execution_count": 16,
   "metadata": {},
   "outputs": [],
   "source": [
    "# Création du retriever\n",
    "retriever = vectorstore.as_retriever()"
   ]
  },
  {
   "cell_type": "code",
   "execution_count": 17,
   "metadata": {},
   "outputs": [
    {
     "name": "stderr",
     "output_type": "stream",
     "text": [
      "/tmp/ipykernel_1083/2306553836.py:5: LangChainDeprecationWarning: The class `AzureChatOpenAI` was deprecated in LangChain 0.0.10 and will be removed in 1.0. An updated version of the class exists in the :class:`~langchain-openai package and should be used instead. To use it run `pip install -U :class:`~langchain-openai` and import as `from :class:`~langchain_openai import AzureChatOpenAI``.\n",
      "  llm = AzureChatOpenAI(\n"
     ]
    }
   ],
   "source": [
    "# Initialisation du modèle de langage conversationnel Azure OpenAI\n",
    "\n",
    "from langchain.chat_models import AzureChatOpenAI\n",
    "\n",
    "llm = AzureChatOpenAI(\n",
    "                        api_key=azure_openai_api_key,\n",
    "                        api_version=\"2023-12-01-preview\",\n",
    "                        azure_endpoint=azure_openai_api_endpoint,\n",
    "                        model=azure_deployment_name,\n",
    "                        temperature=0\n",
    "                        )"
   ]
  },
  {
   "cell_type": "code",
   "execution_count": 18,
   "metadata": {},
   "outputs": [],
   "source": [
    "# Utilisation d'un prompt personnalisé\n",
    "\n",
    "from langchain.chains import RetrievalQA\n",
    "from langchain.prompts import PromptTemplate\n",
    "\n",
    "prompt_template = \"\"\"\n",
    "Vous êtes un assistant expert en littérature.\n",
    "\n",
    "Utilisez les informations suivantes sur les livres pour répondre à la question de manière précise et détaillée.\n",
    "\n",
    "Informations :\n",
    "{context}\n",
    "\n",
    "Question :\n",
    "{question}\n",
    "\n",
    "Réponse :\n",
    "\"\"\"\n",
    "\n",
    "PROMPT = PromptTemplate(\n",
    "    template=prompt_template, input_variables=[\"context\", \"question\"]\n",
    ")"
   ]
  },
  {
   "cell_type": "code",
   "execution_count": 19,
   "metadata": {},
   "outputs": [],
   "source": [
    "# Création de la chaine de Questions / Réponses\n",
    "\n",
    "qa_chain = RetrievalQA.from_chain_type(\n",
    "    llm=llm,\n",
    "    retriever=retriever,\n",
    "    # importer le prompt personnalisé\n",
    "    chain_type_kwargs={\"prompt\": PROMPT}\n",
    ")"
   ]
  },
  {
   "cell_type": "code",
   "execution_count": 20,
   "metadata": {},
   "outputs": [
    {
     "name": "stderr",
     "output_type": "stream",
     "text": [
      "/tmp/ipykernel_1083/67107638.py:3: LangChainDeprecationWarning: The method `Chain.run` was deprecated in langchain 0.1.0 and will be removed in 1.0. Use :meth:`~invoke` instead.\n",
      "  answer = qa_chain.run(question)\n"
     ]
    },
    {
     "name": "stdout",
     "output_type": "stream",
     "text": [
      "Les thèmes principaux de \"Les Misérables\" de Victor Hugo incluent :\n",
      "\n",
      "1. **Justice et Injustice** : Le roman explore les systèmes judiciaires et les inégalités sociales, illustrant comment la loi peut être à la fois oppressive et injuste, notamment à travers le personnage de Jean Valjean, qui est sévèrement puni pour un vol mineur.\n",
      "\n",
      "2. **Rédemption et Morale** : Le parcours de Jean Valjean est central, montrant sa quête de rédemption et de transformation personnelle. Le personnage du Bishop Myriel incarne la compassion et le pardon, influençant Valjean à changer de vie.\n",
      "\n",
      "3. **Lutte entre le Bien et le Mal** : Les personnages sont souvent confrontés à des choix moraux, et le roman examine la nature humaine à travers ces dilemmes.\n",
      "\n",
      "4. **Pauvreté et Marginalisation** : Hugo met en lumière la misère des classes défavorisées, soulignant les conditions de vie difficiles des pauvres et des opprimés dans la société française du XIXe siècle.\n",
      "\n",
      "5. **Amour et Sacrifice** : Les relations, notamment entre Valjean et Cosette, ainsi que les sacrifices faits par les personnages pour ceux qu'ils aiment, sont des éléments clés du récit.\n",
      "\n",
      "6. **Révolution et Espoir** : À travers les événements comme les barricades de Paris, le roman aborde les luttes révolutionnaires et l'espoir d'un avenir meilleur pour la société.\n",
      "\n",
      "Ces thèmes sont tissés tout au long du roman, offrant une réflexion profonde sur la condition humaine et les structures sociales.\n"
     ]
    }
   ],
   "source": [
    "#Exemple d'utilisation 1\n",
    "question = \"Quels sont les thèmes principaux du livre 'Les Misérables' ?\"\n",
    "answer = qa_chain.run(question)\n",
    "print(answer)"
   ]
  },
  {
   "cell_type": "code",
   "execution_count": 21,
   "metadata": {},
   "outputs": [
    {
     "name": "stdout",
     "output_type": "stream",
     "text": [
      "Les principaux livres de Shakespeare incluent :\n",
      "\n",
      "1. **\"The Complete Works of William Shakespeare\"** : Une anthologie complète qui rassemble ses sonnets, comédies, histoires et tragédies. Elle explore des thèmes universels tels que l'amour, l'ambition, la trahison et la complexité de la nature humaine. Les sonnets, qui ouvrent cette collection, se concentrent sur la beauté éphémère et le passage du temps.\n",
      "\n",
      "2. **\"Shakespeare's First Folio\"** : Une collection de ses pièces publiée au début du 17e siècle. Elle vise à préserver son héritage littéraire malgré les défis d'impression de l'époque. Elle inclut des pièces emblématiques comme \"The Tempest,\" \"Romeo and Juliet,\" et \"Macbeth.\"\n",
      "\n",
      "3. **\"Roméo et Juliette\"** : Une tragédie célèbre qui raconte l'histoire d'amour tragique entre Roméo et Juliette, issus de familles rivales à Vérone. Leurs interactions poétiques et leur destin tragique sont au cœur de cette œuvre.\n",
      "\n",
      "4. **\"Périclès\"** : Une tragédie qui suit les aventures du prince Périclès de Tyr. Le récit commence à Antioche et explore des thèmes de danger, d'intrigue et de quête de l'amour à travers les épreuves que Périclès doit affronter.\n",
      "\n",
      "Ces œuvres illustrent la maîtrise de Shakespeare dans le développement des personnages et l'exploration des thèmes intemporels.\n"
     ]
    }
   ],
   "source": [
    "# Exemple d'utilisation 2\n",
    "question = \"Quels sont les principaux livres de Shakespeare ?\"\n",
    "answer = qa_chain.run(question)\n",
    "print(answer)"
   ]
  },
  {
   "cell_type": "code",
   "execution_count": 24,
   "metadata": {},
   "outputs": [
    {
     "name": "stdout",
     "output_type": "stream",
     "text": [
      "Les personnages principaux de \"The Boy Trapper\" de Harry Castlemon sont David Evans, son frère Dan, et Lester Brigham. Le livre traite de la détermination de David à améliorer la situation financière de sa famille en piégeant des cailles. L'histoire explore des thèmes tels que la famille, l'ambition et la rivalité. David doit naviguer à travers les défis posés par son frère Dan, qui veut une part des gains potentiels, et Lester, un nouveau venu qui menace de saboter ses efforts. Le récit se déroule dans un contexte post-guerre où David et sa mère doivent faire face aux conséquences du comportement imprudent de son père pendant la guerre, tout en essayant de subvenir aux besoins de la famille.\n"
     ]
    }
   ],
   "source": [
    "# Exemple d'utilisation 3\n",
    "question = \"Quels sont les personnages principaux de 'The Boy Trapper' et de quel sujet traite ce livre ?\"\n",
    "answer = qa_chain.run(question)\n",
    "print(answer)"
   ]
  },
  {
   "cell_type": "code",
   "execution_count": 22,
   "metadata": {},
   "outputs": [
    {
     "name": "stdout",
     "output_type": "stream",
     "text": [
      "\"Les Fleurs du mal\" de Charles Baudelaire est une œuvre emblématique de la poésie française du 19e siècle. Les thèmes principaux de ce recueil incluent :\n",
      "\n",
      "1. **La Beauté et la Décadence** : Baudelaire explore la dualité entre la beauté et la corruption, souvent en juxtaposant des images sublimes avec des réalités sordides.\n",
      "\n",
      "2. **Le Spleen et l'Idéal** : Ce thème central oppose l'aspiration à l'idéal, à la beauté et à l'élévation spirituelle, au spleen, qui représente l'ennui, la mélancolie et le désespoir.\n",
      "\n",
      "3. **L'Amour et l'Érotisme** : Les poèmes abordent les complexités de l'amour, souvent teinté de désir charnel et de souffrance.\n",
      "\n",
      "4. **La Mort et la Mortalité** : La fascination pour la mort et l'au-delà est omniprésente, avec des réflexions sur la finitude de la vie et l'angoisse existentielle.\n",
      "\n",
      "5. **La Ville et la Modernité** : Baudelaire décrit Paris comme un lieu de modernité, de mouvement et de transformation, tout en soulignant ses aspects aliénants.\n",
      "\n",
      "6. **La Révolte et la Transgression** : Le recueil contient des éléments de rébellion contre les normes sociales et morales, cherchant à choquer et à défier les conventions.\n",
      "\n",
      "Ces thèmes sont explorés à travers un langage riche et symbolique, faisant de \"Les Fleurs du mal\" une œuvre complexe et profondément influente.\n"
     ]
    }
   ],
   "source": [
    "# Exemple d'utilisation 4\n",
    "question = \"Quels sont les thèmes principaux dans 'Les fleurs du mal' ?\"\n",
    "answer = qa_chain.run(question)\n",
    "print(answer)"
   ]
  },
  {
   "cell_type": "code",
   "execution_count": 23,
   "metadata": {},
   "outputs": [
    {
     "name": "stdout",
     "output_type": "stream",
     "text": [
      "\"Fairy Tales from the Arabian Nights\" par E. Dixon est une collection de contes fantastiques inspirés du folklore moyen-oriental, éditée au XIXe siècle. Les histoires explorent des thèmes d'amour, de magie et d'aventure, mettant en scène des personnages comme le Prince Beder et la Reine Gulnare. Le récit débute avec un roi de Perse découvrant le passé tragique de sa reine, ouvrant la voie à des quêtes royales et des défis magiques, tout en soulignant la loyauté et la quête d'identité.\n"
     ]
    }
   ],
   "source": [
    "# Exemple 5\n",
    "question = \"Fais moi un très bref résumé de 'Fairy Tales from the Arabian Nights' ?\"\n",
    "answer = qa_chain.run(question)\n",
    "print(answer)"
   ]
  },
  {
   "cell_type": "code",
   "execution_count": 24,
   "metadata": {},
   "outputs": [
    {
     "name": "stdout",
     "output_type": "stream",
     "text": [
      "Je suis désolé, mais je ne peux pas prédire la météo. Cependant, je peux vous aider avec des informations sur la littérature ou d'autres sujets. Si vous avez des questions sur les livres mentionnés ou d'autres œuvres littéraires, n'hésitez pas à me le faire savoir !\n"
     ]
    }
   ],
   "source": [
    "# Exemple d'utilisation autre que sur les livres \n",
    "question = \"Quel temps fera-t-il demain ?\"\n",
    "answer = qa_chain.run(question)\n",
    "print(answer)"
   ]
  },
  {
   "cell_type": "code",
   "execution_count": 25,
   "metadata": {},
   "outputs": [
    {
     "name": "stdout",
     "output_type": "stream",
     "text": [
      "En tant qu'assistant virtuel, je n'ai pas de préférences personnelles, mais je peux vous dire que le chocolat est souvent apprécié pour sa saveur riche et réconfortante. Dans \"The Story of a Candy Rabbit\" de Laura Lee Hope, le chocolat joue un rôle dans l'univers des jouets, notamment avec le personnage du lapin en chocolat, ajoutant une touche de douceur et de magie à l'histoire. Si vous aimez les récits qui explorent l'imagination et l'amitié, ce livre pourrait vous plaire.\n"
     ]
    }
   ],
   "source": [
    "# Exemple d'utilisation autre que sur les livres \n",
    "question = \"Aimes-tu le chocolat ?\"\n",
    "answer = qa_chain.run(question)\n",
    "print(answer)"
   ]
  },
  {
   "cell_type": "code",
   "execution_count": 36,
   "metadata": {},
   "outputs": [],
   "source": [
    "# Etape de récupération du texte complet d'un livre (si demandé par l'utilisateur) depuis le .txt sur le site\n",
    "# Et répondre à des questions dessus\n",
    "\n",
    "from langchain.document_loaders import GutenbergLoader\n",
    "from langchain.vectorstores import FAISS\n",
    "from langchain.text_splitter import RecursiveCharacterTextSplitter\n",
    "\n",
    "def full_txt_question(title, question):\n",
    "    \"\"\"\n",
    "    Pose une question sur le texte complet d'un livre.\n",
    "\n",
    "    Args:\n",
    "        title (str): Titre du livre.\n",
    "        question (str): Question à poser.\n",
    "\n",
    "    Returns:\n",
    "        str: Réponse de l'agent.\n",
    "    \"\"\"\n",
    "    # Récupération de l'ID du livre à partir du titre\n",
    "    matching_books = gutenberg_data[gutenberg_data[\"Title\"].str.lower() == title.lower()]\n",
    "    if matching_books.empty:\n",
    "        return f\"Aucun livre intitulé '{title}' n'a été trouvé.\"\n",
    "\n",
    "    book_id = matching_books.iloc[0][\"EBook-No.\"]\n",
    "\n",
    "    # Si le vectorstore du livre existe déja on va le charger, sinon on va charger le texte complet depuis l'url\n",
    "    vectorstore_path = f\"vectorstores/vectorstore_{book_id}\"\n",
    "    if os.path.exists(vectorstore_path):\n",
    "        \n",
    "        full_txt_vectorstore = FAISS.load_local(\n",
    "            vectorstore_path,\n",
    "            embeddings=embedding_model,\n",
    "            allow_dangerous_serialization=True\n",
    "        )\n",
    "        print(f\"Vectorstore chargé depuis {vectorstore_path}.\")\n",
    "    else:\n",
    "    # Texte complet\n",
    "        url = f\"https://www.gutenberg.org/files/{book_id}/{book_id}-0.txt\"\n",
    "        try:\n",
    "            loader = GutenbergLoader(url)\n",
    "            full_txt_documents = loader.load()\n",
    "            print(f\"Texte complet du livre {book_id} chargé avec succès depuis {url}\")\n",
    "        except Exception as e:\n",
    "            print(f\"Erreur lors du chargement du texte {book_id}: {e}\")\n",
    "            return \"Impossible de charger le texte complet.\"\n",
    "\n",
    "# Utiliser un TextSplitter pour diviser le document en chunks sinon erreur (rate limit)\n",
    "        text_splitter = RecursiveCharacterTextSplitter(\n",
    "            chunk_size=2000,\n",
    "            chunk_overlap=100\n",
    "        )\n",
    "        split_documents = text_splitter.split_documents(full_txt_documents)\n",
    "\n",
    "        try:\n",
    "            full_txt_vectorstore = FAISS.from_documents(split_documents, embedding_model)\n",
    "            # Sauvegarder le vectorstore pour une utilisation future\n",
    "            full_txt_vectorstore.save_local(vectorstore_path)\n",
    "            print(f\"Vectorstore du livre sauvegardé dans {vectorstore_path}.\")\n",
    "        except Exception as e:\n",
    "            print(f\"Erreur lors de la création du vectorstore: {e}\")\n",
    "            return \"Impossible de créer le vectorstore.\"\n",
    "\n",
    "    retriever = full_txt_vectorstore.as_retriever()\n",
    "\n",
    "    qa_chain_full_text = RetrievalQA.from_chain_type(\n",
    "        llm=llm,\n",
    "        retriever=retriever,\n",
    "        chain_type_kwargs={\"prompt\": PROMPT}\n",
    "    )\n",
    "\n",
    "    try:\n",
    "            answer = qa_chain_full_text.run(question)\n",
    "            return answer\n",
    "    except Exception as e:\n",
    "            print(f\"Erreur lors de l'obtention de la réponse: {e}\")\n",
    "            return \"Impossible de générer une réponse.\""
   ]
  },
  {
   "cell_type": "code",
   "execution_count": 37,
   "metadata": {},
   "outputs": [
    {
     "name": "stdout",
     "output_type": "stream",
     "text": [
      "Texte complet du livre 135 chargé avec succès depuis https://www.gutenberg.org/files/135/135-0.txt\n",
      "Vectorstore du livre sauvegardé dans vectorstores/vectorstore_135.\n",
      "Réponse : La transformation de Jean Valjean dans *Les Misérables* de Victor Hugo est l'un des arcs narratifs les plus puissants et émouvants de la littérature. Voici une description détaillée de son évolution :\n",
      "\n",
      "1. **Origine et Condamnation** : Jean Valjean commence comme un homme ordinaire, mais la pauvreté le pousse à voler un pain pour nourrir sa famille. Ce vol mineur lui vaut une condamnation sévère à cinq ans de bagne, qui se prolonge à dix-neuf ans en raison de tentatives d'évasion. Cette expérience le remplit de haine et de ressentiment envers la société.\n",
      "\n",
      "2. **Rencontre avec l'Évêque** : Après sa libération, Valjean est accueilli par l'évêque Myriel, qui lui offre l'hospitalité. Lorsque Valjean vole l'argenterie de l'évêque, celui-ci le couvre en prétendant l'avoir donnée. Cet acte de bonté désintéressée bouleverse Valjean et marque le début de sa transformation intérieure.\n",
      "\n",
      "3. **Lutte Intérieure** : Valjean est tiraillé entre son ancienne vie de haine et la possibilité de rédemption. L'évêque lui a \"acheté son âme\" pour Dieu, et cette idée le hante. Il réalise que résister à cette clémence serait céder définitivement à l'obscurité.\n",
      "\n",
      "4. **Transformation et Rédemption** : Valjean décide de changer de vie. Il devient un homme honnête et bienveillant, prenant le nom de Monsieur Madeleine. Il devient maire de Montreuil-sur-Mer et utilise sa richesse pour aider les autres, incarnant les valeurs de compassion et de justice.\n",
      "\n",
      "5. **Conflit avec Javert** : Son passé le rattrape lorsque Javert, un inspecteur de police inflexible, le reconnaît. Valjean est confronté à un dilemme moral lorsqu'un innocent est pris pour lui. Il choisit de se dénoncer pour sauver cet homme, prouvant ainsi sa transformation complète.\n",
      "\n",
      "6. **Relation avec Cosette** : Valjean sauve et élève Cosette, la fille de Fantine, renforçant son rôle de figure paternelle et protectrice. Son amour pour Cosette devient une source de rédemption et de bonheur.\n",
      "\n",
      "7. **Sacrifice Final** : Tout au long du roman, Valjean continue de lutter pour le bien, même au prix de sa propre sécurité. Sa transformation est complète lorsqu'il choisit de sauver Marius, l'amour de Cosette, lors des barricades, malgré le danger pour lui-même.\n",
      "\n",
      "8. **Mort et Réconciliation** : À la fin de sa vie, Valjean est réconcilié avec son passé. Il meurt en paix, entouré de ceux qu'il aime, ayant trouvé la rédemption et la paix intérieure.\n",
      "\n",
      "La transformation de Jean Valjean est un voyage de rédemption, passant de la haine et du désespoir à l'amour et à la compassion, illustrant la capacité de l'homme à changer et à trouver la rédemption à travers la bonté et le sacrifice.\n"
     ]
    }
   ],
   "source": [
    "# Exemple d'utilisation\n",
    "title = \"Les Misérables\"\n",
    "question = \"Décris la transformation de Jean Valjean tout au long du livre.\"\n",
    "\n",
    "answer = full_txt_question(title, question)\n",
    "print(f\"Réponse : {answer}\")"
   ]
  },
  {
   "cell_type": "markdown",
   "metadata": {},
   "source": [
    "#### NEXT STEPS : "
   ]
  },
  {
   "cell_type": "markdown",
   "metadata": {},
   "source": [
    "##### 1. RAG Evaluation (manuelle / boucle) : \n",
    "\n"
   ]
  },
  {
   "cell_type": "code",
   "execution_count": 38,
   "metadata": {},
   "outputs": [],
   "source": [
    "test_questions = [\n",
    "    {\n",
    "        \"question\": \"Quels sont les thèmes principaux du livre 'Les Misérables' ?\",\n",
    "        \"expected_answer\": \"Les thèmes principaux incluent la justice sociale, la rédemption, l'amour, et la pauvreté.\"\n",
    "    },\n",
    "    {\n",
    "        \"question\": \"Qui sont les personnages principaux dans le résumé du livre 'Le Comte de Monte-Cristo' ?\",\n",
    "        \"expected_answer\": \"Les personnages principaux sont Edmond Dantès, Mercédès, Fernand, Danglars, Andrea Cavalcanti, et la famille Villefort.\"\n",
    "    },\n",
    "    {\n",
    "        \"question\": \"Quels sont les thèmes principaux du livre 'Les fleurs du mal' ?\",\n",
    "        \"expected_answer\": \"Les thèmes principaux sont la mélancolie, la beauté, la société, et la lutte morale.\"\n",
    "    },\n",
    "    {\n",
    "        \"question\": \"Résume moi 'Fairy Tales from the Arabian Nights' ?\",\n",
    "        \"expected_answer\": \"C'est une collection de contes fantastiques inspirés du folklore moyen-oriental dont Les histoires explorent des thèmes de l'amour, de la magie et de l'aventure\"\n",
    "    }\n",
    "]"
   ]
  },
  {
   "cell_type": "code",
   "execution_count": 43,
   "metadata": {},
   "outputs": [],
   "source": [
    "def agent_evaluation(qa_chain, test_questions):\n",
    "    correct_answers = 0\n",
    "    total_questions = len(test_questions)\n",
    "\n",
    "    for idx, test in enumerate(test_questions, 1):\n",
    "        try:\n",
    "            answer = qa_chain.run(test[\"question\"])\n",
    "            print(\"=\" * 50)\n",
    "            print(f\"Question {idx}: {test['question']}\")\n",
    "            print(f\"Réponse de l'agent: {answer}\")\n",
    "            print(f\"Réponse attendue: {test['expected_answer']}\")\n",
    "            \n",
    "            expected_keywords = test[\"expected_answer\"]\n",
    "            match_count = 0\n",
    "            for keyword in expected_keywords:\n",
    "                if keyword.lower() in answer.lower():\n",
    "                    match_count += 1\n",
    "            \n",
    "            if match_count == len(expected_keywords):\n",
    "                correct_answers += 1\n",
    "                print(\"\\n✅ Cette réponse est CORRECTE.\\n\")\n",
    "            else:\n",
    "                print(f\"\\n⚠️ Réponse partiellement correcte : {match_count}/{len(expected_keywords)} correspondances.\\n\")\n",
    "        except Exception as e:\n",
    "            print(f\"\\n❌ Erreur lors de la réponse à la question {idx}: {e}\\n\")\n",
    "    \n",
    "    accuracy = (correct_answers / total_questions) * 100\n",
    "    print(\"=\" * 50)\n",
    "    print(f\"Précision de l'agent: {accuracy:.2f}%\")\n",
    "    print(\"=\" * 50)\n"
   ]
  },
  {
   "cell_type": "code",
   "execution_count": 44,
   "metadata": {},
   "outputs": [
    {
     "name": "stdout",
     "output_type": "stream",
     "text": [
      "==================================================\n",
      "Question 1: Quels sont les thèmes principaux du livre 'Les Misérables' ?\n",
      "Réponse de l'agent: Les thèmes principaux de \"Les Misérables\" de Victor Hugo incluent :\n",
      "\n",
      "1. **Justice et Injustice** : Le roman explore les systèmes judiciaires et les inégalités sociales, illustrant comment la loi peut être à la fois oppressive et injuste, notamment à travers le personnage de Jean Valjean, qui est sévèrement puni pour un vol mineur.\n",
      "\n",
      "2. **Rédemption et Morale** : Le parcours de Jean Valjean est central, montrant sa quête de rédemption et de transformation personnelle. Le personnage du Bishop Myriel incarne la compassion et le pardon, influençant Valjean à changer de vie.\n",
      "\n",
      "3. **Lutte entre le Bien et le Mal** : Les personnages sont souvent confrontés à des choix moraux, et le roman examine la nature humaine, la capacité de faire le bien malgré un passé trouble, et la lutte intérieure entre les forces du bien et du mal.\n",
      "\n",
      "4. **Pauvreté et Marginalisation** : Hugo met en lumière la misère des classes défavorisées, soulignant les conditions de vie difficiles des pauvres et des opprimés, et critiquant les structures sociales qui perpétuent ces inégalités.\n",
      "\n",
      "5. **Amour et Sacrifice** : Les relations entre les personnages, comme celle entre Valjean et Cosette, sont marquées par l'amour et le sacrifice, illustrant la capacité de l'amour à transcender les difficultés.\n",
      "\n",
      "6. **Révolution et Espoir** : À travers les événements historiques et les insurrections, le roman aborde les luttes pour la liberté et l'égalité, symbolisées par les barricades et les idéaux des personnages comme Enjolras et Marius.\n",
      "\n",
      "Ces thèmes sont tissés dans une narration riche qui combine des réflexions philosophiques avec des récits personnels, créant une œuvre complexe et émotive.\n",
      "Réponse attendue: Les thèmes principaux incluent la justice sociale, la rédemption, l'amour, et la pauvreté.\n",
      "\n",
      "✅ Cette réponse est CORRECTE.\n",
      "\n",
      "==================================================\n",
      "Question 2: Qui sont les personnages principaux dans le résumé du livre 'Le Comte de Monte-Cristo' ?\n",
      "Réponse de l'agent: Dans le résumé du livre \"Le Comte de Monte-Cristo, Tome I\", les personnages principaux mentionnés sont :\n",
      "\n",
      "1. **Edmond Dantès** : Le protagoniste, un jeune marin injustement emprisonné, qui devient le Comte de Monte-Cristo pour se venger.\n",
      "\n",
      "2. **Mercedes** : La bien-aimée d'Edmond Dantès, qu'il espère épouser.\n",
      "\n",
      "3. **Fernand** : Le rival jaloux d'Edmond, impliqué dans sa trahison.\n",
      "\n",
      "4. **Danglars** : Un autre conspirateur qui joue un rôle dans la chute de Dantès.\n",
      "\n",
      "Ces personnages sont centraux dans l'intrigue de vengeance et de justice qui se développe dans le roman.\n",
      "Réponse attendue: Les personnages principaux sont Edmond Dantès, Mercédès, Fernand, Danglars, Andrea Cavalcanti, et la famille Villefort.\n",
      "\n",
      "✅ Cette réponse est CORRECTE.\n",
      "\n",
      "==================================================\n",
      "Question 3: Quels sont les thèmes principaux du livre 'Les fleurs du mal' ?\n",
      "Réponse de l'agent: \"Les Fleurs du mal\" de Charles Baudelaire est une œuvre poétique majeure du 19e siècle, explorant des thèmes variés et profonds. Les principaux thèmes incluent :\n",
      "\n",
      "1. **La Beauté et la Décadence** : Baudelaire explore la dualité entre la beauté et la corruption, souvent en mettant en avant la beauté dans des contextes sombres ou dégradés.\n",
      "\n",
      "2. **Le Spleen et l'Idéal** : Ce thème central oppose le spleen, un sentiment de mélancolie et de désespoir, à l'idéal, une quête de beauté et de transcendance.\n",
      "\n",
      "3. **L'Amour et l'Érotisme** : Les poèmes abordent les complexités de l'amour, souvent teinté de désir, de souffrance et de frustration.\n",
      "\n",
      "4. **La Mort et la Mortalité** : La mort est omniprésente, vue à la fois comme une fin inévitable et une libération possible.\n",
      "\n",
      "5. **La Ville et la Modernité** : Paris est souvent dépeinte comme un lieu de modernité, de chaos et de beauté, reflétant les tensions de la vie urbaine.\n",
      "\n",
      "6. **La Révolte et la Spiritualité** : Baudelaire exprime une révolte contre la société et explore des questions spirituelles, souvent avec un ton provocateur.\n",
      "\n",
      "Ces thèmes sont tissés à travers des images puissantes et un langage riche, faisant de \"Les Fleurs du mal\" une exploration complexe de la condition humaine.\n",
      "Réponse attendue: Les thèmes principaux sont la mélancolie, la beauté, la société, et la lutte morale.\n",
      "\n",
      "✅ Cette réponse est CORRECTE.\n",
      "\n",
      "==================================================\n",
      "Question 4: Résume moi 'Fairy Tales from the Arabian Nights' ?\n",
      "Réponse de l'agent: \"Fairy Tales from the Arabian Nights\" par E. Dixon est une collection de contes fantastiques éditée et abrégée à la fin du 19e siècle. Inspirée par le folklore du Moyen-Orient, cette série explore des thèmes de l'amour, de la magie et de l'aventure dans un monde richement imaginé. Les récits mettent en scène divers personnages, tels que des rois, des reines et des êtres magiques, avec des histoires centrales autour de figures comme le Prince Beder et la Reine Gulnare.\n",
      "\n",
      "L'ouverture présente un conte captivant sur un roi de Perse qui découvre le passé tragique et la lignée royale de sa belle esclave devenue reine après une année de silence. Le récit se développe avec le Prince Beder, révélant ses rencontres et aventures destinées dans sa quête de l'amour et ses confrontations avec des défis magiques, y compris des transformations et des quêtes royales. Le texte instaure une atmosphère de mystère et d'attrait, entraînant les lecteurs dans un monde peuplé d'êtres fantastiques et de relations complexes, tout en soulignant le thème de la loyauté et la lutte pour l'identité au milieu des enchantements.\n",
      "Réponse attendue: C'est une collection de contes fantastiques inspirés du folklore moyen-oriental dont Les histoires explorent des thèmes de l'amour, de la magie et de l'aventure\n",
      "\n",
      "✅ Cette réponse est CORRECTE.\n",
      "\n",
      "==================================================\n",
      "Précision de l'agent: 100.00%\n",
      "==================================================\n"
     ]
    }
   ],
   "source": [
    "agent_evaluation(qa_chain, test_questions)"
   ]
  },
  {
   "cell_type": "markdown",
   "metadata": {},
   "source": [
    "##### 1. RAG Evaluation (langSmith) : "
   ]
  },
  {
   "cell_type": "code",
   "execution_count": null,
   "metadata": {},
   "outputs": [],
   "source": []
  },
  {
   "cell_type": "markdown",
   "metadata": {},
   "source": [
    "##### 2. Fast API"
   ]
  },
  {
   "cell_type": "markdown",
   "metadata": {},
   "source": [
    "##### 3. Azure Deployment"
   ]
  },
  {
   "cell_type": "markdown",
   "metadata": {},
   "source": []
  }
 ],
 "metadata": {
  "kernelspec": {
   "display_name": "langchain_env",
   "language": "python",
   "name": "python3"
  },
  "language_info": {
   "codemirror_mode": {
    "name": "ipython",
    "version": 3
   },
   "file_extension": ".py",
   "mimetype": "text/x-python",
   "name": "python",
   "nbconvert_exporter": "python",
   "pygments_lexer": "ipython3",
   "version": "3.10.15"
  }
 },
 "nbformat": 4,
 "nbformat_minor": 2
}
