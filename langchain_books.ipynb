{
 "cells": [
  {
   "cell_type": "code",
   "execution_count": 1,
   "metadata": {},
   "outputs": [],
   "source": [
    "#Imports\n",
    "# type: ignore\n",
    "import os\n",
    "from dotenv import load_dotenv\n",
    "import pandas as pd\n",
    "\n",
    "from langchain.embeddings import AzureOpenAIEmbeddings\n",
    "from langchain.vectorstores import DocArrayInMemorySearch\n",
    "from langchain.indexes import VectorstoreIndexCreator\n",
    "from langchain.document_loaders import DataFrameLoader\n",
    "from langchain.docstore.document import Document"
   ]
  },
  {
   "cell_type": "code",
   "execution_count": 2,
   "metadata": {},
   "outputs": [],
   "source": [
    "# Import des variables d'environnement (.env)\n",
    "\n",
    "load_dotenv()\n",
    "\n",
    "azure_openai_api_key = os.getenv(\"AZURE_OPENAI_API_KEY_4\")\n",
    "azure_openai_api_endpoint = os.getenv(\"AZURE_OPENAI_API_ENDPOINT_4\")\n",
    "azure_deployment_name = os.getenv(\"AZURE_DEPLOYMENT_NAME_4\")"
   ]
  },
  {
   "cell_type": "code",
   "execution_count": 3,
   "metadata": {},
   "outputs": [
    {
     "name": "stderr",
     "output_type": "stream",
     "text": [
      "/tmp/ipykernel_19784/1634952500.py:3: LangChainDeprecationWarning: The class `AzureOpenAIEmbeddings` was deprecated in LangChain 0.0.9 and will be removed in 1.0. An updated version of the class exists in the :class:`~langchain-openai package and should be used instead. To use it run `pip install -U :class:`~langchain-openai` and import as `from :class:`~langchain_openai import AzureOpenAIEmbeddings``.\n",
      "  embedding_model = AzureOpenAIEmbeddings(\n"
     ]
    }
   ],
   "source": [
    "# Initialisation du modèle d'Embeddings\n",
    "\n",
    "embedding_model = AzureOpenAIEmbeddings(\n",
    "    openai_api_key=azure_openai_api_key,\n",
    "    deployment=\"text-embedding-3-large\",\n",
    "    azure_endpoint=azure_openai_api_endpoint,\n",
    "    openai_api_version=\"2023-05-15\",\n",
    "    chunk_size=500\n",
    ")"
   ]
  },
  {
   "cell_type": "code",
   "execution_count": 4,
   "metadata": {},
   "outputs": [],
   "source": [
    "# Import du dataset \n",
    "\n",
    "gutenberg_data = pd.read_csv(\"Data/gutenberg_ebooks.csv\")"
   ]
  },
  {
   "cell_type": "code",
   "execution_count": 5,
   "metadata": {},
   "outputs": [
    {
     "data": {
      "text/html": [
       "<div>\n",
       "<style scoped>\n",
       "    .dataframe tbody tr th:only-of-type {\n",
       "        vertical-align: middle;\n",
       "    }\n",
       "\n",
       "    .dataframe tbody tr th {\n",
       "        vertical-align: top;\n",
       "    }\n",
       "\n",
       "    .dataframe thead th {\n",
       "        text-align: right;\n",
       "    }\n",
       "</style>\n",
       "<table border=\"1\" class=\"dataframe\">\n",
       "  <thead>\n",
       "    <tr style=\"text-align: right;\">\n",
       "      <th></th>\n",
       "      <th>Ebook ID</th>\n",
       "      <th>Author</th>\n",
       "      <th>Title</th>\n",
       "      <th>Credits</th>\n",
       "      <th>Summary</th>\n",
       "      <th>Language</th>\n",
       "      <th>LoC Class</th>\n",
       "      <th>Subject</th>\n",
       "      <th>Subject_2</th>\n",
       "      <th>Subject_3</th>\n",
       "      <th>Subject_4</th>\n",
       "      <th>Category</th>\n",
       "      <th>EBook-No.</th>\n",
       "      <th>Release Date</th>\n",
       "      <th>Most Recently Updated</th>\n",
       "      <th>Copyright Status</th>\n",
       "      <th>Downloads</th>\n",
       "    </tr>\n",
       "  </thead>\n",
       "  <tbody>\n",
       "    <tr>\n",
       "      <th>19924</th>\n",
       "      <td>19996</td>\n",
       "      <td>Various</td>\n",
       "      <td>The Atlantic Monthly, Volume 16, No. 96, Octob...</td>\n",
       "      <td>Produced by Joshua Hutchinson, Josephine Paolu...</td>\n",
       "      <td>\"The Atlantic Monthly, Volume 16, No. 96, Octo...</td>\n",
       "      <td>English</td>\n",
       "      <td>AP: General Works: Periodicals</td>\n",
       "      <td>American periodicals</td>\n",
       "      <td>NaN</td>\n",
       "      <td>NaN</td>\n",
       "      <td>NaN</td>\n",
       "      <td>Text</td>\n",
       "      <td>19996</td>\n",
       "      <td>Dec 2, 2006</td>\n",
       "      <td>NaN</td>\n",
       "      <td>Public domain in the USA.</td>\n",
       "      <td>88 downloads in the last 30 days.</td>\n",
       "    </tr>\n",
       "    <tr>\n",
       "      <th>19925</th>\n",
       "      <td>19997</td>\n",
       "      <td>Ober, Frederick A. (Frederick Albion), 1849-1913</td>\n",
       "      <td>Amerigo Vespucci</td>\n",
       "      <td>Produced by Suzanne Shell, Richard J. Shiffer ...</td>\n",
       "      <td>\"Amerigo Vespucci\" by Frederick A. Ober is a h...</td>\n",
       "      <td>English</td>\n",
       "      <td>E011: History: America: America</td>\n",
       "      <td>Vespucci, Amerigo, 1451-1512</td>\n",
       "      <td>NaN</td>\n",
       "      <td>NaN</td>\n",
       "      <td>NaN</td>\n",
       "      <td>Text</td>\n",
       "      <td>19997</td>\n",
       "      <td>Dec 3, 2006</td>\n",
       "      <td>NaN</td>\n",
       "      <td>Public domain in the USA.</td>\n",
       "      <td>145 downloads in the last 30 days.</td>\n",
       "    </tr>\n",
       "    <tr>\n",
       "      <th>19926</th>\n",
       "      <td>19998</td>\n",
       "      <td>Allen, Lewis Falley, 1800-1890</td>\n",
       "      <td>Rural ArchitectureBeing a Complete Description...</td>\n",
       "      <td>Produced by Louise Hope, Steven Giacomelli and...</td>\n",
       "      <td>\"Rural Architecture\" by Lewis Falley Allen is ...</td>\n",
       "      <td>English</td>\n",
       "      <td>NA: Fine Arts: Architecture</td>\n",
       "      <td>Domestic animals</td>\n",
       "      <td>Architecture, Domestic</td>\n",
       "      <td>NaN</td>\n",
       "      <td>NaN</td>\n",
       "      <td>Text</td>\n",
       "      <td>19998</td>\n",
       "      <td>Dec 3, 2006</td>\n",
       "      <td>NaN</td>\n",
       "      <td>Public domain in the USA.</td>\n",
       "      <td>232 downloads in the last 30 days.</td>\n",
       "    </tr>\n",
       "    <tr>\n",
       "      <th>19927</th>\n",
       "      <td>19999</td>\n",
       "      <td>Trowbridge, J. T. (John Townsend), 1827-1916</td>\n",
       "      <td>The Drummer Boy</td>\n",
       "      <td>Produced by David Edwards and the Online Distr...</td>\n",
       "      <td>\"The Drummer Boy\" by J. T. Trowbridge is a his...</td>\n",
       "      <td>English</td>\n",
       "      <td>PZ: Language and Literatures: Juvenile belles ...</td>\n",
       "      <td>United States -- History -- Civil War, 1861-18...</td>\n",
       "      <td>NaN</td>\n",
       "      <td>NaN</td>\n",
       "      <td>NaN</td>\n",
       "      <td>Text</td>\n",
       "      <td>19999</td>\n",
       "      <td>Dec 3, 2006</td>\n",
       "      <td>NaN</td>\n",
       "      <td>Public domain in the USA.</td>\n",
       "      <td>76 downloads in the last 30 days.</td>\n",
       "    </tr>\n",
       "    <tr>\n",
       "      <th>19928</th>\n",
       "      <td>20000</td>\n",
       "      <td>Verne, Jules, 1828-1905</td>\n",
       "      <td>Twenty Thousand Leagues Under the Sea</td>\n",
       "      <td>NaN</td>\n",
       "      <td>NaN</td>\n",
       "      <td>English</td>\n",
       "      <td>PQ: Language and Literatures: Romance literatu...</td>\n",
       "      <td>Science fiction</td>\n",
       "      <td>Submarines (Ships) -- Fiction</td>\n",
       "      <td>Sea stories</td>\n",
       "      <td>Underwater exploration -- Fiction</td>\n",
       "      <td>Sound</td>\n",
       "      <td>20000</td>\n",
       "      <td>Sep 1, 2007</td>\n",
       "      <td>Jan 30, 2021</td>\n",
       "      <td>Public domain in the USA.</td>\n",
       "      <td>515 downloads in the last 30 days.</td>\n",
       "    </tr>\n",
       "  </tbody>\n",
       "</table>\n",
       "</div>"
      ],
      "text/plain": [
       "       Ebook ID                                            Author  \\\n",
       "19924     19996                                           Various   \n",
       "19925     19997  Ober, Frederick A. (Frederick Albion), 1849-1913   \n",
       "19926     19998                    Allen, Lewis Falley, 1800-1890   \n",
       "19927     19999      Trowbridge, J. T. (John Townsend), 1827-1916   \n",
       "19928     20000                           Verne, Jules, 1828-1905   \n",
       "\n",
       "                                                   Title  \\\n",
       "19924  The Atlantic Monthly, Volume 16, No. 96, Octob...   \n",
       "19925                                   Amerigo Vespucci   \n",
       "19926  Rural ArchitectureBeing a Complete Description...   \n",
       "19927                                    The Drummer Boy   \n",
       "19928              Twenty Thousand Leagues Under the Sea   \n",
       "\n",
       "                                                 Credits  \\\n",
       "19924  Produced by Joshua Hutchinson, Josephine Paolu...   \n",
       "19925  Produced by Suzanne Shell, Richard J. Shiffer ...   \n",
       "19926  Produced by Louise Hope, Steven Giacomelli and...   \n",
       "19927  Produced by David Edwards and the Online Distr...   \n",
       "19928                                                NaN   \n",
       "\n",
       "                                                 Summary Language  \\\n",
       "19924  \"The Atlantic Monthly, Volume 16, No. 96, Octo...  English   \n",
       "19925  \"Amerigo Vespucci\" by Frederick A. Ober is a h...  English   \n",
       "19926  \"Rural Architecture\" by Lewis Falley Allen is ...  English   \n",
       "19927  \"The Drummer Boy\" by J. T. Trowbridge is a his...  English   \n",
       "19928                                                NaN  English   \n",
       "\n",
       "                                               LoC Class  \\\n",
       "19924                     AP: General Works: Periodicals   \n",
       "19925                    E011: History: America: America   \n",
       "19926                        NA: Fine Arts: Architecture   \n",
       "19927  PZ: Language and Literatures: Juvenile belles ...   \n",
       "19928  PQ: Language and Literatures: Romance literatu...   \n",
       "\n",
       "                                                 Subject  \\\n",
       "19924                               American periodicals   \n",
       "19925                       Vespucci, Amerigo, 1451-1512   \n",
       "19926                                   Domestic animals   \n",
       "19927  United States -- History -- Civil War, 1861-18...   \n",
       "19928                                    Science fiction   \n",
       "\n",
       "                           Subject_2    Subject_3  \\\n",
       "19924                            NaN          NaN   \n",
       "19925                            NaN          NaN   \n",
       "19926         Architecture, Domestic          NaN   \n",
       "19927                            NaN          NaN   \n",
       "19928  Submarines (Ships) -- Fiction  Sea stories   \n",
       "\n",
       "                               Subject_4 Category  EBook-No. Release Date  \\\n",
       "19924                                NaN     Text      19996  Dec 2, 2006   \n",
       "19925                                NaN     Text      19997  Dec 3, 2006   \n",
       "19926                                NaN     Text      19998  Dec 3, 2006   \n",
       "19927                                NaN     Text      19999  Dec 3, 2006   \n",
       "19928  Underwater exploration -- Fiction    Sound      20000  Sep 1, 2007   \n",
       "\n",
       "      Most Recently Updated           Copyright Status  \\\n",
       "19924                   NaN  Public domain in the USA.   \n",
       "19925                   NaN  Public domain in the USA.   \n",
       "19926                   NaN  Public domain in the USA.   \n",
       "19927                   NaN  Public domain in the USA.   \n",
       "19928          Jan 30, 2021  Public domain in the USA.   \n",
       "\n",
       "                                Downloads  \n",
       "19924   88 downloads in the last 30 days.  \n",
       "19925  145 downloads in the last 30 days.  \n",
       "19926  232 downloads in the last 30 days.  \n",
       "19927   76 downloads in the last 30 days.  \n",
       "19928  515 downloads in the last 30 days.  "
      ]
     },
     "execution_count": 5,
     "metadata": {},
     "output_type": "execute_result"
    }
   ],
   "source": [
    "gutenberg_data.tail()"
   ]
  },
  {
   "cell_type": "code",
   "execution_count": 6,
   "metadata": {},
   "outputs": [
    {
     "data": {
      "text/plain": [
       "(19929, 17)"
      ]
     },
     "execution_count": 6,
     "metadata": {},
     "output_type": "execute_result"
    }
   ],
   "source": [
    "gutenberg_data.shape"
   ]
  },
  {
   "cell_type": "code",
   "execution_count": 7,
   "metadata": {},
   "outputs": [
    {
     "name": "stdout",
     "output_type": "stream",
     "text": [
      "Ebook ID                     0\n",
      "Author                     874\n",
      "Title                        0\n",
      "Credits                   1563\n",
      "Summary                    819\n",
      "Language                     0\n",
      "LoC Class                    8\n",
      "Subject                      9\n",
      "Subject_2                 8253\n",
      "Subject_3                13595\n",
      "Subject_4                16257\n",
      "Category                     0\n",
      "EBook-No.                    0\n",
      "Release Date                 0\n",
      "Most Recently Updated     1821\n",
      "Copyright Status             0\n",
      "Downloads                    0\n",
      "dtype: int64\n"
     ]
    }
   ],
   "source": [
    "print(gutenberg_data.isnull().sum())"
   ]
  },
  {
   "cell_type": "code",
   "execution_count": 8,
   "metadata": {},
   "outputs": [],
   "source": [
    "gutenberg_data = gutenberg_data.dropna(subset=[\"Summary\", \"Title\"])"
   ]
  },
  {
   "cell_type": "code",
   "execution_count": 9,
   "metadata": {},
   "outputs": [
    {
     "data": {
      "text/plain": [
       "(19110, 17)"
      ]
     },
     "execution_count": 9,
     "metadata": {},
     "output_type": "execute_result"
    }
   ],
   "source": [
    "gutenberg_data.shape"
   ]
  },
  {
   "cell_type": "code",
   "execution_count": 10,
   "metadata": {},
   "outputs": [],
   "source": [
    "metadata_columns = [\"Title\", \"Author\", \"Language\", \"Release Date\", \"Subject\", \"Subject_2\", \"Subject_3\", \"Subject_4\"]\n",
    "\n",
    "gutenberg_data[metadata_columns] = gutenberg_data[metadata_columns].fillna('')\n"
   ]
  },
  {
   "cell_type": "code",
   "execution_count": 11,
   "metadata": {},
   "outputs": [],
   "source": [
    "# type: ignore\n",
    "from langchain.schema import Document\n",
    "\n",
    "documents = []\n",
    "\n",
    "for idx, row in gutenberg_data.iterrows():\n",
    "\n",
    "    # On va combiner l'ensemble des sujets en un seul bloc\n",
    "    subjects = ', '.join([row[col] for col in [\"Subject\", \"Subject_2\", \"Subject_3\", \"Subject_4\"] if row[col]])\n",
    "    \n",
    "    # Création du dictionnaire des métadonnées avec rassemblement de toutes les informations clé\n",
    "    metadata = {\n",
    "        \"Title\": row[\"Title\"],\n",
    "        \"Author\": row[\"Author\"],\n",
    "        \"Language\": row[\"Language\"],\n",
    "        \"Release Date\": row[\"Release Date\"],\n",
    "        \"Subjects\": subjects\n",
    "    }\n",
    "    \n",
    "    document = Document(page_content=row[\"Summary\"], metadata=metadata)\n",
    "    documents.append(document)"
   ]
  },
  {
   "cell_type": "code",
   "execution_count": 15,
   "metadata": {},
   "outputs": [
    {
     "name": "stdout",
     "output_type": "stream",
     "text": [
      "Traitement du lot 1/39\n",
      "Traitement du lot 2/39\n",
      "Traitement du lot 3/39\n",
      "Traitement du lot 4/39\n",
      "Traitement du lot 5/39\n",
      "Traitement du lot 6/39\n",
      "Traitement du lot 7/39\n",
      "Traitement du lot 8/39\n",
      "Traitement du lot 9/39\n",
      "Traitement du lot 10/39\n",
      "Traitement du lot 11/39\n",
      "Traitement du lot 12/39\n",
      "Traitement du lot 13/39\n",
      "Traitement du lot 14/39\n",
      "Traitement du lot 15/39\n",
      "Traitement du lot 16/39\n",
      "Traitement du lot 17/39\n",
      "Traitement du lot 18/39\n",
      "Traitement du lot 19/39\n",
      "Traitement du lot 20/39\n",
      "Traitement du lot 21/39\n",
      "Traitement du lot 22/39\n",
      "Traitement du lot 23/39\n",
      "Traitement du lot 24/39\n",
      "Traitement du lot 25/39\n",
      "Traitement du lot 26/39\n",
      "Traitement du lot 27/39\n",
      "Traitement du lot 28/39\n",
      "Traitement du lot 29/39\n",
      "Traitement du lot 30/39\n",
      "Traitement du lot 31/39\n",
      "Traitement du lot 32/39\n",
      "Traitement du lot 33/39\n",
      "Traitement du lot 34/39\n",
      "Traitement du lot 35/39\n",
      "Traitement du lot 36/39\n",
      "Traitement du lot 37/39\n",
      "Traitement du lot 38/39\n",
      "Traitement du lot 39/39\n"
     ]
    }
   ],
   "source": [
    "# type: ignore\n",
    "\n",
    "# Utilisation avec FAISS (= moteur de stockage vectoriel)\n",
    "# Objectif : Permettre une recherche de similarité efficace\n",
    "\n",
    "# Le kernel crash lors de la création de l'index vectoriel :\n",
    "# TEST 1 : Toujours avec FAISS mais avec un traitement par lots (batch)\n",
    "# TEST 2 SI PERSISTENCE ERREURS AVEC FAIS : Utiliser Chroma\n",
    "\n",
    "\n",
    "from langchain.vectorstores import FAISS\n",
    "\n",
    "# Mise en place du traitement par lot : \n",
    "batch_size = 500\n",
    "\n",
    "vectorstore = None\n",
    "\n",
    "\"\"\"index = VectorstoreIndexCreator(\n",
    "    embedding=embedding_model,\n",
    "    vectorstore_cls=FAISS\n",
    "\n",
    "    # Création de l'index vectoriel\n",
    ").from_documents(documents)\"\"\"\n",
    "\n",
    "# Traitement des documents par lots\n",
    "for i in range(0, len(documents), batch_size):\n",
    "    batch_docs = documents[i:i+batch_size]\n",
    "    print(f\"Traitement du lot {i//batch_size + 1}/{(len(documents) + batch_size - 1)//batch_size}\")\n",
    "\n",
    "    if vectorstore is None:\n",
    "        vectorstore = FAISS.from_documents(batch_docs, embedding_model)\n",
    "    else:\n",
    "        new_vectorstore = FAISS.from_documents(batch_docs, embedding_model)\n",
    "        vectorstore.merge_from(new_vectorstore)\n",
    "\n",
    "# Enregistrement de l'index complet\n",
    "vectorstore.save_local(\"book_index\")"
   ]
  },
  {
   "cell_type": "code",
   "execution_count": 12,
   "metadata": {},
   "outputs": [
    {
     "name": "stdout",
     "output_type": "stream",
     "text": [
      "Nombre de docs créés : 19110\n"
     ]
    }
   ],
   "source": [
    "print(f\"Nombre de docs créés : {len(documents)}\")"
   ]
  },
  {
   "cell_type": "code",
   "execution_count": 23,
   "metadata": {},
   "outputs": [],
   "source": [
    "# type: ignore\n",
    "# Import du fichier enregistré précédemment\n",
    "\n",
    "from langchain.vectorstores import FAISS\n",
    "\n",
    "vectorstore = FAISS.load_local(\n",
    "    \"book_index\",\n",
    "    embeddings=embedding_model,\n",
    "    # Ligne ci dessous à ajouter sinon erreur lors du lancement de la cellule\n",
    "    allow_dangerous_deserialization=True\n",
    ")"
   ]
  },
  {
   "cell_type": "code",
   "execution_count": 24,
   "metadata": {},
   "outputs": [],
   "source": [
    "# Création du retriever\n",
    "retriever = vectorstore.as_retriever()"
   ]
  },
  {
   "cell_type": "code",
   "execution_count": 25,
   "metadata": {},
   "outputs": [],
   "source": [
    "# type: ignore\n",
    "# Initialisation du modèle de langage conversationnel Azure OpenAI\n",
    "\n",
    "from langchain.chat_models import AzureChatOpenAI\n",
    "\n",
    "llm = AzureChatOpenAI(\n",
    "                        api_key=azure_openai_api_key,\n",
    "                        api_version=\"2023-12-01-preview\",\n",
    "                        azure_endpoint=azure_openai_api_endpoint,\n",
    "                        model=azure_deployment_name,\n",
    "                        temperature=0\n",
    "                        )"
   ]
  },
  {
   "cell_type": "code",
   "execution_count": 26,
   "metadata": {},
   "outputs": [],
   "source": [
    "# type: ignore\n",
    "# Utilisation d'un prompt personnalisé\n",
    "\n",
    "from langchain.chains import RetrievalQA\n",
    "from langchain.prompts import PromptTemplate\n",
    "\n",
    "prompt_template = \"\"\"\n",
    "Vous êtes un assistant expert en littérature.\n",
    "\n",
    "Utilisez les informations suivantes sur les livres pour répondre à la question de manière précise et détaillée.\n",
    "\n",
    "Informations :\n",
    "{context}\n",
    "\n",
    "Question :\n",
    "{question}\n",
    "\n",
    "Réponse :\n",
    "\"\"\"\n",
    "\n",
    "PROMPT = PromptTemplate(\n",
    "    template=prompt_template, input_variables=[\"context\", \"question\"]\n",
    ")"
   ]
  },
  {
   "cell_type": "code",
   "execution_count": 28,
   "metadata": {},
   "outputs": [],
   "source": [
    "# Création de la chaine de Questions / Réponses\n",
    "\n",
    "qa_chain = RetrievalQA.from_chain_type(\n",
    "    llm=llm,\n",
    "    retriever=retriever,\n",
    "    # importer le prompt personnalisé\n",
    "    chain_type_kwargs={\"prompt\": PROMPT}\n",
    ")"
   ]
  },
  {
   "cell_type": "code",
   "execution_count": 29,
   "metadata": {},
   "outputs": [
    {
     "name": "stdout",
     "output_type": "stream",
     "text": [
      "Les thèmes principaux de \"Les Misérables\" de Victor Hugo incluent :\n",
      "\n",
      "1. **Justice et Morale** : Le roman explore la complexité de la justice et de la morale à travers les expériences de ses personnages, notamment Jean Valjean, qui cherche à échapper à son passé criminel et à se racheter.\n",
      "\n",
      "2. **Rédemption** : Le parcours de Jean Valjean est central, illustrant la possibilité de rédemption et de transformation personnelle malgré un passé difficile.\n",
      "\n",
      "3. **Lutte entre le Bien et le Mal** : Les personnages sont souvent confrontés à des choix moraux, symbolisant la lutte constante entre le bien et le mal.\n",
      "\n",
      "4. **Injustice Sociale et Pauvreté** : Hugo met en lumière la misère des classes défavorisées et critique les inégalités sociales de la France post-révolutionnaire.\n",
      "\n",
      "5. **Compassion et Charité** : Incarnées par des personnages comme l'évêque Myriel, ces valeurs sont présentées comme des forces positives capables de changer des vies.\n",
      "\n",
      "6. **Révolution et Insurrection** : Le roman se déroule sur fond de bouleversements politiques, notamment les révolutions de 1830 et 1848, et explore les aspirations et les sacrifices des révolutionnaires.\n",
      "\n",
      "7. **Influence des Circonstances Sociales** : Hugo examine comment les conditions sociales et économiques influencent le comportement et le destin des individus.\n",
      "\n",
      "Ces thèmes sont tissés à travers les histoires personnelles des personnages et les événements historiques, créant une œuvre riche en réflexions sociales et philosophiques.\n"
     ]
    }
   ],
   "source": [
    "#Exemple d'utilisation 1\n",
    "question = \"Quels sont les thèmes principaux du livre 'Les Misérables' ?\"\n",
    "answer = qa_chain.run(question)\n",
    "print(answer)"
   ]
  },
  {
   "cell_type": "code",
   "execution_count": 30,
   "metadata": {},
   "outputs": [
    {
     "name": "stdout",
     "output_type": "stream",
     "text": [
      "Les principaux livres de Shakespeare incluent une variété de pièces de théâtre et de poèmes qui ont marqué la littérature. Voici quelques-unes de ses œuvres les plus notables :\n",
      "\n",
      "1. **Tragédies :**\n",
      "   - \"Roméo et Juliette\" : Une tragédie sur l'amour interdit entre deux jeunes amants issus de familles rivales à Vérone.\n",
      "   - \"Macbeth\" : L'histoire d'un noble écossais dont l'ambition démesurée le conduit à la ruine.\n",
      "   - \"Hamlet\" : Un drame complexe sur la vengeance et la folie, centré sur le prince du Danemark.\n",
      "   - \"Othello\" : Une exploration des thèmes de la jalousie et de la trahison.\n",
      "\n",
      "2. **Comédies :**\n",
      "   - \"Peines d'amour perdues\" : Une comédie sur les vœux de célibat de jeunes nobles mis à l'épreuve par l'arrivée de la princesse de France.\n",
      "   - \"Le Songe d'une nuit d'été\" : Une pièce mêlant amour et magie dans une forêt enchantée.\n",
      "   - \"La Mégère apprivoisée\" : Une comédie sur le mariage et la transformation des caractères.\n",
      "\n",
      "3. **Histoires :**\n",
      "   - \"Henri V\" : Une pièce historique sur le règne du roi Henri V d'Angleterre.\n",
      "   - \"Richard III\" : L'ascension et la chute du roi Richard III.\n",
      "\n",
      "4. **Sonnets :**\n",
      "   - \"Les Sonnets\" : Une collection de poèmes explorant des thèmes tels que l'amour, la beauté, et la mortalité.\n",
      "\n",
      "5. **Premiers Folios :**\n",
      "   - \"Shakespeare's First Folio\" : Une collection de ses pièces publiée en 1623, incluant des œuvres comme \"The Tempest\" et \"Jules César\".\n",
      "\n",
      "Ces œuvres démontrent la maîtrise de Shakespeare dans divers genres, de la comédie à la tragédie, en passant par l'histoire et la poésie.\n"
     ]
    }
   ],
   "source": [
    "# Exemple d'utilisation 2\n",
    "question = \"Quels sont les principaux livres de Shakespeare ?\"\n",
    "answer = qa_chain.run(question)\n",
    "print(answer)"
   ]
  },
  {
   "cell_type": "code",
   "execution_count": 31,
   "metadata": {},
   "outputs": [
    {
     "name": "stdout",
     "output_type": "stream",
     "text": [
      "Les personnages principaux de \"The Drummer Boy\" de J. T. Trowbridge sont Frank Manly et sa famille, notamment sa mère, sa sœur Helen, et sa plus jeune sœur Hattie. Le livre traite du désir de Frank de s'engager comme tambour lors de la guerre civile américaine, malgré les objections émotionnelles de sa famille. Le récit explore des thèmes tels que le patriotisme, le courage et le sacrifice personnel dans le contexte d'une nation en guerre. L'histoire commence par une conversation émotive entre Frank et sa famille un soir d'automne en 1861, où il exprime sa volonté de se battre pour l'Union, malgré les inquiétudes de sa mère et les supplications de sa sœur Hattie.\n"
     ]
    }
   ],
   "source": [
    "# Exemple d'utilisation 3\n",
    "question = \"Quels sont les personnages principaux de 'The Drumer Boy' et de quel sujet traite ce livre ?\"\n",
    "answer = qa_chain.run(question)\n",
    "print(answer)"
   ]
  },
  {
   "cell_type": "code",
   "execution_count": 32,
   "metadata": {},
   "outputs": [
    {
     "name": "stdout",
     "output_type": "stream",
     "text": [
      "Je suis désolé, mais je ne peux pas prédire la météo. Cependant, je peux vous aider avec des informations sur les livres mentionnés ou d'autres questions littéraires.\n"
     ]
    }
   ],
   "source": [
    "# Exemple d'utilisation autre que sur les livres \n",
    "question = \"Quel temps fera-t-il demain ?\"\n",
    "answer = qa_chain.run(question)\n",
    "print(answer)"
   ]
  },
  {
   "cell_type": "markdown",
   "metadata": {},
   "source": [
    "#### NEXT STEPS : "
   ]
  },
  {
   "cell_type": "markdown",
   "metadata": {},
   "source": [
    "##### 1. RAG Evaluation :  En fonction des résultats, implémenter un prompt et Spacy pour les Entités Nommées\n",
    "\n"
   ]
  },
  {
   "cell_type": "markdown",
   "metadata": {},
   "source": [
    "##### 2. Fast API"
   ]
  },
  {
   "cell_type": "markdown",
   "metadata": {},
   "source": [
    "##### 3. Azure Deployment"
   ]
  }
 ],
 "metadata": {
  "kernelspec": {
   "display_name": "langchain_env",
   "language": "python",
   "name": "python3"
  },
  "language_info": {
   "codemirror_mode": {
    "name": "ipython",
    "version": 3
   },
   "file_extension": ".py",
   "mimetype": "text/x-python",
   "name": "python",
   "nbconvert_exporter": "python",
   "pygments_lexer": "ipython3",
   "version": "3.10.15"
  }
 },
 "nbformat": 4,
 "nbformat_minor": 2
}
