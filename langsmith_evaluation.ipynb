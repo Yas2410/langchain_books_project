{
 "cells": [
  {
   "cell_type": "code",
   "execution_count": 1,
   "metadata": {},
   "outputs": [],
   "source": [
    "import os\n",
    "from dotenv import load_dotenv\n",
    "from langchain.embeddings import AzureOpenAIEmbeddings\n",
    "from langchain.chat_models import AzureChatOpenAI\n",
    "from langchain.vectorstores import FAISS\n",
    "from langchain.document_loaders import GutenbergLoader\n",
    "from langchain.text_splitter import RecursiveCharacterTextSplitter\n",
    "from langchain.prompts import PromptTemplate\n",
    "from langchain.chains import RetrievalQA\n",
    "from langchain.evaluation.qa import QAEvalChain"
   ]
  },
  {
   "cell_type": "code",
   "execution_count": 2,
   "metadata": {},
   "outputs": [],
   "source": [
    "load_dotenv()\n",
    "\n",
    "azure_openai_api_key = os.getenv(\"AZURE_OPENAI_API_KEY_4\")\n",
    "azure_openai_api_endpoint = os.getenv(\"AZURE_OPENAI_API_ENDPOINT_4\")\n",
    "azure_deployment_name = os.getenv(\"AZURE_DEPLOYMENT_NAME_4\")\n",
    "\n",
    "# Vérification que la clé API LangSmith est définie\n",
    "if not os.getenv(\"LANGCHAIN_API_KEY\"):\n",
    "    raise ValueError(\"La clé API LangSmith n'est pas définie\")\n",
    "\n",
    "langchain_project = os.getenv(\"LANGCHAIN_PROJECT\")"
   ]
  },
  {
   "cell_type": "code",
   "execution_count": 3,
   "metadata": {},
   "outputs": [
    {
     "name": "stderr",
     "output_type": "stream",
     "text": [
      "/tmp/ipykernel_1519/3092749887.py:1: LangChainDeprecationWarning: The class `AzureOpenAIEmbeddings` was deprecated in LangChain 0.0.9 and will be removed in 1.0. An updated version of the class exists in the :class:`~langchain-openai package and should be used instead. To use it run `pip install -U :class:`~langchain-openai` and import as `from :class:`~langchain_openai import AzureOpenAIEmbeddings``.\n",
      "  embedding_model = AzureOpenAIEmbeddings(\n",
      "/tmp/ipykernel_1519/3092749887.py:9: LangChainDeprecationWarning: The class `AzureChatOpenAI` was deprecated in LangChain 0.0.10 and will be removed in 1.0. An updated version of the class exists in the :class:`~langchain-openai package and should be used instead. To use it run `pip install -U :class:`~langchain-openai` and import as `from :class:`~langchain_openai import AzureChatOpenAI``.\n",
      "  llm = AzureChatOpenAI(\n"
     ]
    }
   ],
   "source": [
    "embedding_model = AzureOpenAIEmbeddings(\n",
    "    openai_api_key=azure_openai_api_key,\n",
    "    azure_endpoint=azure_openai_api_endpoint,\n",
    "    deployment=\"text-embedding-3-large\",\n",
    "    openai_api_version=\"2023-05-15\",\n",
    "    chunk_size=500\n",
    ")\n",
    "\n",
    "llm = AzureChatOpenAI(\n",
    "    api_key=azure_openai_api_key,\n",
    "    api_version=\"2023-05-15\",\n",
    "    azure_endpoint=azure_openai_api_endpoint,\n",
    "    deployment_name=azure_deployment_name,\n",
    "    temperature=0\n",
    ")"
   ]
  },
  {
   "cell_type": "code",
   "execution_count": 4,
   "metadata": {},
   "outputs": [
    {
     "name": "stdout",
     "output_type": "stream",
     "text": [
      "Vectorstore chargé depuis book_index.\n"
     ]
    }
   ],
   "source": [
    "from langchain.vectorstores import FAISS\n",
    "\n",
    "vectorstore_path = \"book_index\"  # On reprend le vectorstore sauvegardé dans le premier notebook\n",
    "\n",
    "if os.path.exists(vectorstore_path):\n",
    "    vectorstore = FAISS.load_local(\n",
    "        vectorstore_path,\n",
    "        embeddings=embedding_model,\n",
    "        allow_dangerous_deserialization=True  \n",
    "    )\n",
    "    print(f\"Vectorstore chargé depuis {vectorstore_path}.\")\n",
    "else:\n",
    "    print(f\"Le vectorstore n'a pas été trouvé à l'emplacement {vectorstore_path}.\")"
   ]
  },
  {
   "cell_type": "code",
   "execution_count": 5,
   "metadata": {},
   "outputs": [],
   "source": [
    "retriever = vectorstore.as_retriever()"
   ]
  },
  {
   "cell_type": "code",
   "execution_count": 6,
   "metadata": {},
   "outputs": [],
   "source": [
    "PROMPT = PromptTemplate(\n",
    "    input_variables=[\"context\", \"question\"],\n",
    "    template=\"\"\"\n",
    "    Vous êtes un assistant littéraire expert.\n",
    "\n",
    "    Utilisez les informations suivantes pour répondre à la question de manière précise et concise.\n",
    "\n",
    "    Informations :\n",
    "    {context}\n",
    "\n",
    "    Question :\n",
    "    {question}\n",
    "\n",
    "    Réponse :\n",
    "    \"\"\"\n",
    ")"
   ]
  },
  {
   "cell_type": "code",
   "execution_count": 7,
   "metadata": {},
   "outputs": [],
   "source": [
    "qa_chain = RetrievalQA.from_chain_type(\n",
    "    llm=llm,\n",
    "    retriever=retriever,\n",
    "    chain_type_kwargs={\"prompt\": PROMPT}\n",
    ")"
   ]
  },
  {
   "cell_type": "code",
   "execution_count": 12,
   "metadata": {},
   "outputs": [],
   "source": [
    "def evaluate_with_langsmith(qa_chain, examples):\n",
    "    eval_chain = QAEvalChain.from_llm(llm)\n",
    "    predictions = []\n",
    "\n",
    "    for example in examples:\n",
    "        answer = qa_chain.run(example[\"question\"])\n",
    "        predictions.append({\"answer\": answer})\n",
    "\n",
    "    graded_outputs = eval_chain.evaluate(\n",
    "        examples=examples,\n",
    "        predictions=predictions,\n",
    "        question_key=\"question\",\n",
    "        answer_key=\"answer\",\n",
    "        prediction_key=\"answer\"\n",
    "    )\n",
    "    return graded_outputs, predictions"
   ]
  },
  {
   "cell_type": "code",
   "execution_count": 20,
   "metadata": {},
   "outputs": [],
   "source": [
    "examples = [\n",
    "    {\n",
    "        \"question\": \"Quels sont les thèmes principaux du livre 'Les Misérables' ?\",\n",
    "        \"answer\": \"Les thèmes principaux incluent la justice sociale, la rédemption, l'amour, et la pauvreté.\"\n",
    "    },\n",
    "    {\n",
    "        \"question\": \"Qui sont les personnages principaux dans le résumé du livre 'Le Roi des Étudiants' ?\",\n",
    "        \"answer\": \"Les personnages principaux sont Paul Champfort et ses camarades de lycée\"\n",
    "    },\n",
    "    {\n",
    "        \"question\": \"Quels sont les thèmes principaux du livre 'Les fleurs du mal' ?\",\n",
    "        \"answer\": \"Les thèmes principaux sont la mélancolie, la beauté, la société, et la lutte morale.\"\n",
    "    },\n",
    "    {\n",
    "        \"question\": \"Résume moi 'Fairy Tales from the Arabian Nights' ?\",\n",
    "        \"answer\": \"C'est une collection de contes fantastiques inspirés du folklore moyen-oriental dont Les histoires explorent des thèmes de l'amour, de la magie et de l'aventure\"\n",
    "    },\n",
    "    {\n",
    "        \"question\": \"De quoi parle 'The Japanese twins'?\",\n",
    "        \"answer\" : \"C'est un roman pour enfants.L'histoire suit Taro et Take, des jumeaux de cinq ans vivant dans une maison japonaise pittoresque avec leurs parents, leur grand-mère et leur petit frère. Le livre explore leur vie quotidienne, leurs expériences culturelles et les aventures innocentes de l'enfance.\"\n",
    "    }\n",
    "]"
   ]
  },
  {
   "cell_type": "code",
   "execution_count": 18,
   "metadata": {},
   "outputs": [
    {
     "name": "stderr",
     "output_type": "stream",
     "text": [
      "/home/yaskck/.pyenv/versions/3.10.15/envs/langchain_env/lib/python3.10/site-packages/langchain_community/chat_models/openai.py:173: UserWarning: Unexpected type for token usage: <class 'NoneType'>\n",
      "  warnings.warn(f\"Unexpected type for token usage: {type(new_usage)}\")\n"
     ]
    }
   ],
   "source": [
    "# Exécuter l'évaluation\n",
    "graded_outputs, predictions = evaluate_with_langsmith(qa_chain, examples)"
   ]
  },
  {
   "cell_type": "code",
   "execution_count": 21,
   "metadata": {},
   "outputs": [
    {
     "name": "stdout",
     "output_type": "stream",
     "text": [
      "==================================================\n",
      "Result dict: {'results': 'CORRECT'}\n",
      "Question 1: Quels sont les thèmes principaux du livre 'Les Misérables' ?\n",
      "Réponse générée: Les thèmes principaux de \"Les Misérables\" sont la justice, la moralité, la rédemption, et la lutte entre le bien et le mal. Le roman explore également les problèmes sociaux, notamment la pauvreté et la marginalisation, à travers les vies de ses personnages, en particulier Jean Valjean.\n",
      "Réponse attendue: Les thèmes principaux incluent la justice sociale, la rédemption, l'amour, et la pauvreté.\n",
      "Évaluation: CORRECT\n",
      "==================================================\n",
      "==================================================\n",
      "Result dict: {'results': 'INCORRECT'}\n",
      "Question 2: Qui sont les personnages principaux dans le résumé du livre 'Le Roi des Étudiants' ?\n",
      "Réponse générée: Les personnages principaux dans le résumé du livre \"Le Roi des Étudiants\" sont Paul Champfort et un groupe d'étudiants en médecine à Québec.\n",
      "Réponse attendue: Les personnages principaux sont Paul Champfort et ses camarades de lycée\n",
      "Évaluation: INCORRECT\n",
      "==================================================\n",
      "==================================================\n",
      "Result dict: {'results': 'CORRECT'}\n",
      "Question 3: Quels sont les thèmes principaux du livre 'Les fleurs du mal' ?\n",
      "Réponse générée: \"Les Fleurs du mal\" de Charles Baudelaire explore principalement les thèmes de la beauté, la décadence, l'érotisme, la mélancolie, et la dualité entre le bien et le mal. Le recueil aborde également la modernité, l'ennui, et la quête de l'idéal, tout en reflétant les tensions entre le spleen et l'aspiration à l'élévation spirituelle. Baudelaire utilise une riche imagerie pour exprimer les complexités de l'âme humaine et les contradictions de l'existence.\n",
      "Réponse attendue: Les thèmes principaux sont la mélancolie, la beauté, la société, et la lutte morale.\n",
      "Évaluation: CORRECT\n",
      "==================================================\n",
      "==================================================\n",
      "Result dict: {'results': 'CORRECT'}\n",
      "Question 4: Résume moi 'Fairy Tales from the Arabian Nights' ?\n",
      "Réponse générée: \"Fairy Tales from the Arabian Nights\" par E. Dixon est une collection de récits fantastiques édités et abrégés à la fin du XIXe siècle. Inspirées par le folklore du Moyen-Orient, ces histoires explorent des thèmes d'amour, de magie et d'aventure dans un monde richement imaginé. Les récits mettent en scène divers personnages, dont des rois, des reines et des êtres magiques, avec des intrigues centrées sur des figures comme le Prince Beder et la Reine Gulnare. L'ouverture présente l'histoire captivante d'un roi de Perse découvrant le passé tragique et la lignée royale de sa reine. Le texte instaure une atmosphère de mystère et d'enchantement, soulignant la loyauté et la quête d'identité au milieu des défis magiques.\n",
      "Réponse attendue: C'est une collection de contes fantastiques inspirés du folklore moyen-oriental dont Les histoires explorent des thèmes de l'amour, de la magie et de l'aventure\n",
      "Évaluation: CORRECT\n",
      "==================================================\n",
      "==================================================\n",
      "Result dict: {'results': 'CORRECT'}\n",
      "Question 5: De quoi parle 'The Japanese twins'?\n",
      "Réponse générée: \"The Japanese Twins\" de Lucy Fitch Perkins est un roman pour enfants du début du 20e siècle. Il raconte l'histoire de Taro et Take, des jumeaux de cinq ans vivant dans une maison japonaise avec leurs parents, leur grand-mère et leur petit frère, Bot'Chan. Le livre explore leur vie quotidienne, leurs expériences culturelles et leurs aventures innocentes. L'histoire commence le jour de la naissance de leur petit frère, où les jumeaux expriment excitation et curiosité. Le récit met en avant la dynamique familiale soudée, les conversations engageantes et la beauté de leur jardin, invitant les lecteurs dans un monde d'enfance rempli de plaisirs simples et de relations significatives.\n",
      "Réponse attendue: C'est un roman pour enfants.L'histoire suit Taro et Take, des jumeaux de cinq ans vivant dans une maison japonaise pittoresque avec leurs parents, leur grand-mère et leur petit frère. Le livre explore leur vie quotidienne, leurs expériences culturelles et les aventures innocentes de l'enfance.\n",
      "Évaluation: CORRECT\n",
      "==================================================\n"
     ]
    }
   ],
   "source": [
    "# Résultats\n",
    "for idx, result in enumerate(graded_outputs):\n",
    "    print(\"=\" * 50)\n",
    "    print(f\"Result dict: {result}\")\n",
    "    print(f\"Question {idx + 1}: {examples[idx]['question']}\")\n",
    "    print(f\"Réponse générée: {predictions[idx]['answer']}\")\n",
    "    print(f\"Réponse attendue: {examples[idx]['answer']}\")\n",
    "    print(f\"Évaluation: {result['results']}\")\n",
    "    print(\"=\" * 50)"
   ]
  },
  {
   "cell_type": "markdown",
   "metadata": {},
   "source": [
    "## Pour voir les métriques : "
   ]
  },
  {
   "cell_type": "markdown",
   "metadata": {},
   "source": [
    "##### Grâce à la clé API langsmith et grâce au nom du projet défini dans le .env, on va pouvoir se connecter sur la plateforme \"smith.langchain.com\" et voir les runs et les métriques"
   ]
  },
  {
   "cell_type": "markdown",
   "metadata": {},
   "source": [
    "##### Voir dossier \"langSmith_screens qui contient quelques captures des métriques"
   ]
  },
  {
   "cell_type": "markdown",
   "metadata": {},
   "source": [
    "##### Un csv avec l'ensemble des métriques peut également être exporté depuis le site pour des analyses plus poussées"
   ]
  },
  {
   "cell_type": "code",
   "execution_count": 22,
   "metadata": {},
   "outputs": [
    {
     "data": {
      "text/html": [
       "<div>\n",
       "<style scoped>\n",
       "    .dataframe tbody tr th:only-of-type {\n",
       "        vertical-align: middle;\n",
       "    }\n",
       "\n",
       "    .dataframe tbody tr th {\n",
       "        vertical-align: top;\n",
       "    }\n",
       "\n",
       "    .dataframe thead th {\n",
       "        text-align: right;\n",
       "    }\n",
       "</style>\n",
       "<table border=\"1\" class=\"dataframe\">\n",
       "  <thead>\n",
       "    <tr style=\"text-align: right;\">\n",
       "      <th></th>\n",
       "      <th>input_input_list</th>\n",
       "      <th>input_query</th>\n",
       "      <th>output_outputs</th>\n",
       "      <th>output_result</th>\n",
       "    </tr>\n",
       "  </thead>\n",
       "  <tbody>\n",
       "    <tr>\n",
       "      <th>0</th>\n",
       "      <td>[{\"query\": \"Quels sont les thèmes principaux d...</td>\n",
       "      <td>NaN</td>\n",
       "      <td>[{\"results\": \"CORRECT\"}, {\"results\": \"INCORREC...</td>\n",
       "      <td>NaN</td>\n",
       "    </tr>\n",
       "    <tr>\n",
       "      <th>1</th>\n",
       "      <td>NaN</td>\n",
       "      <td>De quoi parle 'The Japanese twins'?</td>\n",
       "      <td>NaN</td>\n",
       "      <td>\"The Japanese Twins\" de Lucy Fitch Perkins est...</td>\n",
       "    </tr>\n",
       "    <tr>\n",
       "      <th>2</th>\n",
       "      <td>NaN</td>\n",
       "      <td>Résume moi 'Fairy Tales from the Arabian Night...</td>\n",
       "      <td>NaN</td>\n",
       "      <td>\"Fairy Tales from the Arabian Nights\" par E. D...</td>\n",
       "    </tr>\n",
       "    <tr>\n",
       "      <th>3</th>\n",
       "      <td>NaN</td>\n",
       "      <td>Quels sont les thèmes principaux du livre 'Les...</td>\n",
       "      <td>NaN</td>\n",
       "      <td>\"Les Fleurs du mal\" de Charles Baudelaire expl...</td>\n",
       "    </tr>\n",
       "    <tr>\n",
       "      <th>4</th>\n",
       "      <td>NaN</td>\n",
       "      <td>Qui sont les personnages principaux dans le ré...</td>\n",
       "      <td>NaN</td>\n",
       "      <td>Les personnages principaux dans le résumé du l...</td>\n",
       "    </tr>\n",
       "  </tbody>\n",
       "</table>\n",
       "</div>"
      ],
      "text/plain": [
       "                                    input_input_list  \\\n",
       "0  [{\"query\": \"Quels sont les thèmes principaux d...   \n",
       "1                                                NaN   \n",
       "2                                                NaN   \n",
       "3                                                NaN   \n",
       "4                                                NaN   \n",
       "\n",
       "                                         input_query  \\\n",
       "0                                                NaN   \n",
       "1                De quoi parle 'The Japanese twins'?   \n",
       "2  Résume moi 'Fairy Tales from the Arabian Night...   \n",
       "3  Quels sont les thèmes principaux du livre 'Les...   \n",
       "4  Qui sont les personnages principaux dans le ré...   \n",
       "\n",
       "                                      output_outputs  \\\n",
       "0  [{\"results\": \"CORRECT\"}, {\"results\": \"INCORREC...   \n",
       "1                                                NaN   \n",
       "2                                                NaN   \n",
       "3                                                NaN   \n",
       "4                                                NaN   \n",
       "\n",
       "                                       output_result  \n",
       "0                                                NaN  \n",
       "1  \"The Japanese Twins\" de Lucy Fitch Perkins est...  \n",
       "2  \"Fairy Tales from the Arabian Nights\" par E. D...  \n",
       "3  \"Les Fleurs du mal\" de Charles Baudelaire expl...  \n",
       "4  Les personnages principaux dans le résumé du l...  "
      ]
     },
     "execution_count": 22,
     "metadata": {},
     "output_type": "execute_result"
    }
   ],
   "source": [
    "import pandas as pd\n",
    "\n",
    "langsmith_dataset = pd.read_csv(\"langSmith_screens/langsmith_export.csv\")\n",
    "\n",
    "langsmith_dataset.head()"
   ]
  },
  {
   "cell_type": "code",
   "execution_count": 23,
   "metadata": {},
   "outputs": [
    {
     "name": "stdout",
     "output_type": "stream",
     "text": [
      "<class 'pandas.core.frame.DataFrame'>\n",
      "RangeIndex: 13 entries, 0 to 12\n",
      "Data columns (total 4 columns):\n",
      " #   Column            Non-Null Count  Dtype \n",
      "---  ------            --------------  ----- \n",
      " 0   input_input_list  2 non-null      object\n",
      " 1   input_query       11 non-null     object\n",
      " 2   output_outputs    2 non-null      object\n",
      " 3   output_result     11 non-null     object\n",
      "dtypes: object(4)\n",
      "memory usage: 544.0+ bytes\n"
     ]
    }
   ],
   "source": [
    "langsmith_dataset.info()"
   ]
  },
  {
   "cell_type": "markdown",
   "metadata": {},
   "source": [
    "##### Et ainsi de suite en fonction de ce que l'on souhaite afficher, nettoyer, analyser, etc."
   ]
  }
 ],
 "metadata": {
  "kernelspec": {
   "display_name": "langchain_env",
   "language": "python",
   "name": "python3"
  },
  "language_info": {
   "codemirror_mode": {
    "name": "ipython",
    "version": 3
   },
   "file_extension": ".py",
   "mimetype": "text/x-python",
   "name": "python",
   "nbconvert_exporter": "python",
   "pygments_lexer": "ipython3",
   "version": "3.10.15"
  }
 },
 "nbformat": 4,
 "nbformat_minor": 2
}
