{
 "cells": [
  {
   "cell_type": "code",
   "execution_count": 16,
   "metadata": {},
   "outputs": [],
   "source": [
    "import os\n",
    "from dotenv import load_dotenv\n",
    "from langchain.embeddings import AzureOpenAIEmbeddings\n",
    "from langchain.chat_models import AzureChatOpenAI\n",
    "from langchain.vectorstores import FAISS\n",
    "from langchain.document_loaders import GutenbergLoader\n",
    "from langchain.text_splitter import RecursiveCharacterTextSplitter\n",
    "from langchain.prompts import PromptTemplate\n",
    "from langchain.chains import RetrievalQA\n",
    "from langchain.evaluation.qa import QAEvalChain"
   ]
  },
  {
   "cell_type": "code",
   "execution_count": 17,
   "metadata": {},
   "outputs": [],
   "source": [
    "load_dotenv()\n",
    "\n",
    "azure_openai_api_key = os.getenv(\"AZURE_OPENAI_API_KEY_4\")\n",
    "azure_openai_api_endpoint = os.getenv(\"AZURE_OPENAI_API_ENDPOINT_4\")\n",
    "azure_deployment_name = os.getenv(\"AZURE_DEPLOYMENT_NAME_4\")\n",
    "\n",
    "# Vérification que la clé API LangSmith est définie\n",
    "if not os.getenv(\"LANGCHAIN_API_KEY\"):\n",
    "    raise ValueError(\"La clé API LangSmith n'est pas définie\")\n",
    "\n",
    "langchain_project = os.getenv(\"LANGCHAIN_PROJECT\")"
   ]
  },
  {
   "cell_type": "code",
   "execution_count": 18,
   "metadata": {},
   "outputs": [],
   "source": [
    "embedding_model = AzureOpenAIEmbeddings(\n",
    "    openai_api_key=azure_openai_api_key,\n",
    "    azure_endpoint=azure_openai_api_endpoint,\n",
    "    deployment=\"text-embedding-3-large\",\n",
    "    openai_api_version=\"2023-05-15\",\n",
    "    chunk_size=500\n",
    ")\n",
    "\n",
    "llm = AzureChatOpenAI(\n",
    "    api_key=azure_openai_api_key,\n",
    "    api_version=\"2023-05-15\",\n",
    "    azure_endpoint=azure_openai_api_endpoint,\n",
    "    deployment_name=azure_deployment_name,\n",
    "    temperature=0\n",
    ")"
   ]
  },
  {
   "cell_type": "code",
   "execution_count": 19,
   "metadata": {},
   "outputs": [
    {
     "name": "stdout",
     "output_type": "stream",
     "text": [
      "Vectorstore chargé depuis book_index.\n"
     ]
    }
   ],
   "source": [
    "from langchain.vectorstores import FAISS\n",
    "\n",
    "vectorstore_path = \"book_index\"  # On reprend le vectorstore sauvegardé dans le premier notebook\n",
    "\n",
    "if os.path.exists(vectorstore_path):\n",
    "    vectorstore = FAISS.load_local(\n",
    "        vectorstore_path,\n",
    "        embeddings=embedding_model,\n",
    "        allow_dangerous_deserialization=True  \n",
    "    )\n",
    "    print(f\"Vectorstore chargé depuis {vectorstore_path}.\")\n",
    "else:\n",
    "    print(f\"Le vectorstore n'a pas été trouvé à l'emplacement {vectorstore_path}.\")"
   ]
  },
  {
   "cell_type": "code",
   "execution_count": 20,
   "metadata": {},
   "outputs": [],
   "source": [
    "retriever = vectorstore.as_retriever()"
   ]
  },
  {
   "cell_type": "code",
   "execution_count": 21,
   "metadata": {},
   "outputs": [],
   "source": [
    "PROMPT = PromptTemplate(\n",
    "    input_variables=[\"context\", \"question\"],\n",
    "    template=\"\"\"\n",
    "    Vous êtes un assistant littéraire expert.\n",
    "\n",
    "    Utilisez les informations suivantes pour répondre à la question de manière précise et concise.\n",
    "\n",
    "    Informations :\n",
    "    {context}\n",
    "\n",
    "    Question :\n",
    "    {question}\n",
    "\n",
    "    Réponse :\n",
    "    \"\"\"\n",
    ")"
   ]
  },
  {
   "cell_type": "code",
   "execution_count": 22,
   "metadata": {},
   "outputs": [],
   "source": [
    "qa_chain = RetrievalQA.from_chain_type(\n",
    "    llm=llm,\n",
    "    retriever=retriever,\n",
    "    chain_type_kwargs={\"prompt\": PROMPT}\n",
    ")"
   ]
  },
  {
   "cell_type": "code",
   "execution_count": 23,
   "metadata": {},
   "outputs": [],
   "source": [
    "def evaluate_with_langsmith(qa_chain, examples):\n",
    "    eval_chain = QAEvalChain.from_llm(llm)\n",
    "    predictions = []\n",
    "\n",
    "    for example in examples:\n",
    "        answer = qa_chain.run(example[\"question\"])\n",
    "        predictions.append({\"answer\": answer})\n",
    "\n",
    "    graded_outputs = eval_chain.evaluate(\n",
    "        examples=examples,\n",
    "        predictions=predictions,\n",
    "        question_key=\"question\",\n",
    "        answer_key=\"answer\",\n",
    "        prediction_key=\"answer\"\n",
    "    )\n",
    "    return graded_outputs, predictions"
   ]
  },
  {
   "cell_type": "code",
   "execution_count": 24,
   "metadata": {},
   "outputs": [],
   "source": [
    "examples = [\n",
    "    {\n",
    "        \"question\": \"Quels sont les thèmes principaux du livre 'Les Misérables' ?\",\n",
    "        \"answer\": \"Les thèmes principaux incluent la justice sociale, la rédemption, l'amour, et la pauvreté.\"\n",
    "    },\n",
    "    {\n",
    "        \"question\": \"Qui sont les personnages principaux dans le résumé du livre 'Le Roi des Étudiants' ?\",\n",
    "        \"answer\": \"Les personnages principaux sont Paul Champfort et ses camarades de lycée\"\n",
    "    },\n",
    "    {\n",
    "        \"question\": \"Quels sont les thèmes principaux du livre 'Les fleurs du mal' ?\",\n",
    "        \"answer\": \"Les thèmes principaux sont la mélancolie, la beauté, la société, et la lutte morale.\"\n",
    "    },\n",
    "    {\n",
    "        \"question\": \"Résume moi 'Fairy Tales from the Arabian Nights' ?\",\n",
    "        \"answer\": \"C'est une collection de contes fantastiques inspirés du folklore moyen-oriental dont Les histoires explorent des thèmes de l'amour, de la magie et de l'aventure\"\n",
    "    }\n",
    "]"
   ]
  },
  {
   "cell_type": "code",
   "execution_count": 25,
   "metadata": {},
   "outputs": [
    {
     "name": "stderr",
     "output_type": "stream",
     "text": [
      "/home/yaskck/.pyenv/versions/3.10.15/envs/langchain_env/lib/python3.10/site-packages/langchain_community/chat_models/openai.py:173: UserWarning: Unexpected type for token usage: <class 'NoneType'>\n",
      "  warnings.warn(f\"Unexpected type for token usage: {type(new_usage)}\")\n"
     ]
    }
   ],
   "source": [
    "# Exécuter l'évaluation\n",
    "graded_outputs, predictions = evaluate_with_langsmith(qa_chain, examples)"
   ]
  },
  {
   "cell_type": "code",
   "execution_count": 26,
   "metadata": {},
   "outputs": [
    {
     "name": "stdout",
     "output_type": "stream",
     "text": [
      "==================================================\n",
      "Result dict: {'results': 'CORRECT'}\n",
      "Question 1: Quels sont les thèmes principaux du livre 'Les Misérables' ?\n",
      "Réponse générée: Les thèmes principaux de \"Les Misérables\" sont la justice, la moralité, la rédemption, et la lutte entre le bien et le mal. Le roman explore également les problèmes sociaux, notamment la pauvreté et la marginalisation, à travers les vies de ses personnages, en particulier Jean Valjean. L'œuvre aborde aussi les sacrifices, l'espoir d'un avenir meilleur, et les dilemmes moraux dans un contexte de bouleversements historiques et sociaux.\n",
      "Réponse attendue: Les thèmes principaux incluent la justice sociale, la rédemption, l'amour, et la pauvreté.\n",
      "Évaluation: CORRECT\n",
      "==================================================\n",
      "==================================================\n",
      "Result dict: {'results': 'INCORRECT'}\n",
      "Question 2: Qui sont les personnages principaux dans le résumé du livre 'Le Roi des Étudiants' ?\n",
      "Réponse générée: Les personnages principaux dans le résumé du livre \"Le Roi des Étudiants\" sont Paul Champfort et un groupe d'étudiants en médecine à Québec.\n",
      "Réponse attendue: Les personnages principaux sont Paul Champfort et ses camarades de lycée\n",
      "Évaluation: INCORRECT\n",
      "==================================================\n",
      "==================================================\n",
      "Result dict: {'results': 'CORRECT'}\n",
      "Question 3: Quels sont les thèmes principaux du livre 'Les fleurs du mal' ?\n",
      "Réponse générée: \"Les Fleurs du mal\" de Charles Baudelaire explore principalement les thèmes de la beauté, la décadence, la sensualité, et la dualité entre le bien et le mal. Le recueil aborde également la mélancolie, l'ennui, et la quête de l'idéal, tout en confrontant les lecteurs à la réalité de la condition humaine et à la complexité des émotions. Baudelaire utilise une riche imagerie pour exprimer les tensions entre l'élévation spirituelle et la déchéance morale.\n",
      "Réponse attendue: Les thèmes principaux sont la mélancolie, la beauté, la société, et la lutte morale.\n",
      "Évaluation: CORRECT\n",
      "==================================================\n",
      "==================================================\n",
      "Result dict: {'results': 'CORRECT'}\n",
      "Question 4: Résume moi 'Fairy Tales from the Arabian Nights' ?\n",
      "Réponse générée: \"Fairy Tales from the Arabian Nights\" par E. Dixon est une collection de récits fantastiques édités et abrégés à la fin du XIXe siècle. Inspirées par le folklore du Moyen-Orient, ces histoires explorent des thèmes d'amour, de magie et d'aventure dans un monde richement imaginé. Les récits mettent en scène divers personnages, dont des rois, des reines et des êtres magiques. L'ouverture présente un roi de Perse découvrant le passé tragique et la lignée royale de sa belle esclave devenue reine. Le livre suit ensuite le prince Beder dans ses aventures, confrontant des défis magiques et des quêtes royales, tout en soulignant la loyauté et la quête d'identité au milieu des enchantements.\n",
      "Réponse attendue: C'est une collection de contes fantastiques inspirés du folklore moyen-oriental dont Les histoires explorent des thèmes de l'amour, de la magie et de l'aventure\n",
      "Évaluation: CORRECT\n",
      "==================================================\n"
     ]
    }
   ],
   "source": [
    "# Résultats\n",
    "for idx, result in enumerate(graded_outputs):\n",
    "    print(\"=\" * 50)\n",
    "    print(f\"Result dict: {result}\")\n",
    "    print(f\"Question {idx + 1}: {examples[idx]['question']}\")\n",
    "    print(f\"Réponse générée: {predictions[idx]['answer']}\")\n",
    "    print(f\"Réponse attendue: {examples[idx]['answer']}\")\n",
    "    print(f\"Évaluation: {result['results']}\")\n",
    "    print(\"=\" * 50)"
   ]
  }
 ],
 "metadata": {
  "kernelspec": {
   "display_name": "langchain_env",
   "language": "python",
   "name": "python3"
  },
  "language_info": {
   "codemirror_mode": {
    "name": "ipython",
    "version": 3
   },
   "file_extension": ".py",
   "mimetype": "text/x-python",
   "name": "python",
   "nbconvert_exporter": "python",
   "pygments_lexer": "ipython3",
   "version": "3.10.15"
  }
 },
 "nbformat": 4,
 "nbformat_minor": 2
}
